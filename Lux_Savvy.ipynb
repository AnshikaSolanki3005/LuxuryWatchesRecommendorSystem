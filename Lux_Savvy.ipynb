{
 "cells": [
  {
   "cell_type": "markdown",
   "id": "be3ab121",
   "metadata": {},
   "source": [
    "# ~ **** \" LUXURY WATCH RECOMMENDATION SYSTEM \"  **** ~"
   ]
  },
  {
   "cell_type": "code",
   "execution_count": null,
   "id": "c9e6c594-c375-4229-b5ea-998d827fa18b",
   "metadata": {},
   "outputs": [],
   "source": []
  },
  {
   "cell_type": "markdown",
   "id": "99a56589",
   "metadata": {},
   "source": [
    "16 June 2024 \n",
    "\n",
    "(Sunday)"
   ]
  },
  {
   "cell_type": "markdown",
   "id": "bb0ac50d",
   "metadata": {},
   "source": [
    "### 1. Define Objective : "
   ]
  },
  {
   "cell_type": "markdown",
   "id": "5cf3f113",
   "metadata": {},
   "source": [
    "##### 1.1 AIM / OBJECTIVES: "
   ]
  },
  {
   "cell_type": "markdown",
   "id": "d8e49137",
   "metadata": {},
   "source": [
    "* The primary objective of this project is to develop a recommendation system that suggests watches to users based on their preferences and\n",
    "     the features of the watches. \n",
    "    \n",
    "    \n",
    "* This system aims to enhance the user experience by providing personalized watch recommendations, thereby aiding users in finding watches \n",
    "     that best match their tastes and requirements."
   ]
  },
  {
   "cell_type": "markdown",
   "id": "ec38c83f",
   "metadata": {},
   "source": [
    "###  2. Gather Data"
   ]
  },
  {
   "cell_type": "markdown",
   "id": "d22f3986",
   "metadata": {},
   "source": [
    "##### 2.1 IMPORT LIBRARIES "
   ]
  },
  {
   "cell_type": "markdown",
   "id": "4b6fd7f3-7e70-46d6-886a-ef8edd9b93ed",
   "metadata": {},
   "source": [
    "Installing the libraries first for smooth access of libraries"
   ]
  },
  {
   "cell_type": "code",
   "execution_count": 79,
   "id": "ee590b4a-98b9-4a87-984b-afa66a7a78e3",
   "metadata": {},
   "outputs": [
    {
     "name": "stdout",
     "output_type": "stream",
     "text": [
      "Note: you may need to restart the kernel to use updated packages.\n"
     ]
    }
   ],
   "source": [
    "pip install numpy>2"
   ]
  },
  {
   "cell_type": "code",
   "execution_count": null,
   "id": "503aa99b-fd9f-4517-a3ac-4f5c624f4273",
   "metadata": {},
   "outputs": [],
   "source": [
    "pip install matplotlib seaborn"
   ]
  },
  {
   "cell_type": "code",
   "execution_count": 2,
   "id": "5e8a0a49",
   "metadata": {},
   "outputs": [],
   "source": [
    "# Importing some basic libraries for project implementation and execution\n",
    "import pandas as pd\n",
    "import numpy as np\n",
    "import matplotlib as plt\n",
    "%matplotlib inline\n",
    "import seaborn as sns"
   ]
  },
  {
   "cell_type": "code",
   "execution_count": 4,
   "id": "05543d8f",
   "metadata": {},
   "outputs": [],
   "source": [
    "from sklearn.preprocessing import OneHotEncoder\n",
    "from sklearn.preprocessing import LabelEncoder\n",
    "from sklearn.preprocessing import StandardScaler\n",
    "from sklearn.model_selection import train_test_split\n",
    "from sklearn.neighbors import NearestNeighbors "
   ]
  },
  {
   "cell_type": "markdown",
   "id": "9656f793",
   "metadata": {},
   "source": [
    "##### 2.2 LOAD THE DATASET "
   ]
  },
  {
   "cell_type": "code",
   "execution_count": 6,
   "id": "447caec3",
   "metadata": {},
   "outputs": [],
   "source": [
    "# Loading the csv file of the dataset\n",
    "lux_data=pd.read_csv(\"Luxury_watch.csv\")"
   ]
  },
  {
   "cell_type": "code",
   "execution_count": 7,
   "id": "a3f2559e",
   "metadata": {
    "scrolled": true
   },
   "outputs": [
    {
     "data": {
      "text/html": [
       "<div>\n",
       "<style scoped>\n",
       "    .dataframe tbody tr th:only-of-type {\n",
       "        vertical-align: middle;\n",
       "    }\n",
       "\n",
       "    .dataframe tbody tr th {\n",
       "        vertical-align: top;\n",
       "    }\n",
       "\n",
       "    .dataframe thead th {\n",
       "        text-align: right;\n",
       "    }\n",
       "</style>\n",
       "<table border=\"1\" class=\"dataframe\">\n",
       "  <thead>\n",
       "    <tr style=\"text-align: right;\">\n",
       "      <th></th>\n",
       "      <th>Brand</th>\n",
       "      <th>Model</th>\n",
       "      <th>Case Material</th>\n",
       "      <th>Strap Material</th>\n",
       "      <th>Movement Type</th>\n",
       "      <th>Water Resistance</th>\n",
       "      <th>Case Diameter (mm)</th>\n",
       "      <th>Case Thickness (mm)</th>\n",
       "      <th>Band Width (mm)</th>\n",
       "      <th>Dial Color</th>\n",
       "      <th>Crystal Material</th>\n",
       "      <th>Complications</th>\n",
       "      <th>Power Reserve</th>\n",
       "      <th>Price (USD)</th>\n",
       "    </tr>\n",
       "  </thead>\n",
       "  <tbody>\n",
       "    <tr>\n",
       "      <th>0</th>\n",
       "      <td>Rolex</td>\n",
       "      <td>Submariner</td>\n",
       "      <td>Stainless Steel</td>\n",
       "      <td>Stainless Steel</td>\n",
       "      <td>Automatic</td>\n",
       "      <td>300 meters</td>\n",
       "      <td>40.0</td>\n",
       "      <td>13.00</td>\n",
       "      <td>20.0</td>\n",
       "      <td>Black</td>\n",
       "      <td>Sapphire</td>\n",
       "      <td>Date</td>\n",
       "      <td>48 hours</td>\n",
       "      <td>9,500</td>\n",
       "    </tr>\n",
       "    <tr>\n",
       "      <th>1</th>\n",
       "      <td>Omega</td>\n",
       "      <td>Seamaster</td>\n",
       "      <td>Titanium</td>\n",
       "      <td>Rubber</td>\n",
       "      <td>Automatic</td>\n",
       "      <td>600 meters</td>\n",
       "      <td>43.5</td>\n",
       "      <td>14.47</td>\n",
       "      <td>21.0</td>\n",
       "      <td>Blue</td>\n",
       "      <td>Sapphire</td>\n",
       "      <td>Date</td>\n",
       "      <td>60 hours</td>\n",
       "      <td>5,800</td>\n",
       "    </tr>\n",
       "    <tr>\n",
       "      <th>2</th>\n",
       "      <td>Tag Heuer</td>\n",
       "      <td>Carrera</td>\n",
       "      <td>Stainless Steel</td>\n",
       "      <td>Leather</td>\n",
       "      <td>Automatic</td>\n",
       "      <td>100 meters</td>\n",
       "      <td>41.0</td>\n",
       "      <td>13.00</td>\n",
       "      <td>20.0</td>\n",
       "      <td>White</td>\n",
       "      <td>Sapphire</td>\n",
       "      <td>Chronograph</td>\n",
       "      <td>42 hours</td>\n",
       "      <td>4,200</td>\n",
       "    </tr>\n",
       "    <tr>\n",
       "      <th>3</th>\n",
       "      <td>Breitling</td>\n",
       "      <td>Navitimer</td>\n",
       "      <td>Stainless Steel</td>\n",
       "      <td>Stainless Steel</td>\n",
       "      <td>Automatic</td>\n",
       "      <td>30 meters</td>\n",
       "      <td>43.0</td>\n",
       "      <td>14.25</td>\n",
       "      <td>22.0</td>\n",
       "      <td>Black</td>\n",
       "      <td>Sapphire</td>\n",
       "      <td>Chronograph</td>\n",
       "      <td>70 hours</td>\n",
       "      <td>7,900</td>\n",
       "    </tr>\n",
       "    <tr>\n",
       "      <th>4</th>\n",
       "      <td>Cartier</td>\n",
       "      <td>Tank Solo</td>\n",
       "      <td>Stainless Steel</td>\n",
       "      <td>Leather</td>\n",
       "      <td>Quartz</td>\n",
       "      <td>30 meters</td>\n",
       "      <td>31.0</td>\n",
       "      <td>6.05</td>\n",
       "      <td>20.0</td>\n",
       "      <td>Silver</td>\n",
       "      <td>Sapphire</td>\n",
       "      <td>NaN</td>\n",
       "      <td>NaN</td>\n",
       "      <td>2,800</td>\n",
       "    </tr>\n",
       "    <tr>\n",
       "      <th>...</th>\n",
       "      <td>...</td>\n",
       "      <td>...</td>\n",
       "      <td>...</td>\n",
       "      <td>...</td>\n",
       "      <td>...</td>\n",
       "      <td>...</td>\n",
       "      <td>...</td>\n",
       "      <td>...</td>\n",
       "      <td>...</td>\n",
       "      <td>...</td>\n",
       "      <td>...</td>\n",
       "      <td>...</td>\n",
       "      <td>...</td>\n",
       "      <td>...</td>\n",
       "    </tr>\n",
       "    <tr>\n",
       "      <th>502</th>\n",
       "      <td>Breguet</td>\n",
       "      <td>Classique</td>\n",
       "      <td>18k Rose Gold</td>\n",
       "      <td>Leather</td>\n",
       "      <td>Automatic</td>\n",
       "      <td>30 meters</td>\n",
       "      <td>38.5</td>\n",
       "      <td>8.25</td>\n",
       "      <td>20.0</td>\n",
       "      <td>White</td>\n",
       "      <td>Sapphire</td>\n",
       "      <td>Date</td>\n",
       "      <td>38 hours</td>\n",
       "      <td>21,500</td>\n",
       "    </tr>\n",
       "    <tr>\n",
       "      <th>503</th>\n",
       "      <td>Blancpain</td>\n",
       "      <td>Fifty Fathoms</td>\n",
       "      <td>Stainless Steel</td>\n",
       "      <td>Fabric</td>\n",
       "      <td>Automatic</td>\n",
       "      <td>300 meters</td>\n",
       "      <td>45.0</td>\n",
       "      <td>15.50</td>\n",
       "      <td>23.0</td>\n",
       "      <td>Black</td>\n",
       "      <td>Sapphire</td>\n",
       "      <td>Date</td>\n",
       "      <td>120 hours</td>\n",
       "      <td>13,500</td>\n",
       "    </tr>\n",
       "    <tr>\n",
       "      <th>504</th>\n",
       "      <td>Longines</td>\n",
       "      <td>Master Collection</td>\n",
       "      <td>Stainless Steel</td>\n",
       "      <td>Leather</td>\n",
       "      <td>Automatic</td>\n",
       "      <td>30 meters</td>\n",
       "      <td>38.5</td>\n",
       "      <td>9.70</td>\n",
       "      <td>20.0</td>\n",
       "      <td>Blue</td>\n",
       "      <td>Sapphire</td>\n",
       "      <td>Date</td>\n",
       "      <td>64 hours</td>\n",
       "      <td>1,800</td>\n",
       "    </tr>\n",
       "    <tr>\n",
       "      <th>505</th>\n",
       "      <td>Vacheron Constantin</td>\n",
       "      <td>Overseas</td>\n",
       "      <td>Stainless Steel</td>\n",
       "      <td>Stainless Steel</td>\n",
       "      <td>Automatic</td>\n",
       "      <td>150 meters</td>\n",
       "      <td>41.5</td>\n",
       "      <td>11.00</td>\n",
       "      <td>22.0</td>\n",
       "      <td>Blue</td>\n",
       "      <td>Sapphire</td>\n",
       "      <td>Date</td>\n",
       "      <td>40 hours</td>\n",
       "      <td>19,000</td>\n",
       "    </tr>\n",
       "    <tr>\n",
       "      <th>506</th>\n",
       "      <td>Frederique Constant</td>\n",
       "      <td>Classics</td>\n",
       "      <td>Stainless Steel</td>\n",
       "      <td>Leather</td>\n",
       "      <td>Automatic</td>\n",
       "      <td>50 meters</td>\n",
       "      <td>40.0</td>\n",
       "      <td>10.60</td>\n",
       "      <td>20.0</td>\n",
       "      <td>Silver</td>\n",
       "      <td>Sapphire</td>\n",
       "      <td>Date</td>\n",
       "      <td>38 hours</td>\n",
       "      <td>1,200</td>\n",
       "    </tr>\n",
       "  </tbody>\n",
       "</table>\n",
       "<p>507 rows × 14 columns</p>\n",
       "</div>"
      ],
      "text/plain": [
       "                   Brand              Model    Case Material   Strap Material  \\\n",
       "0                  Rolex         Submariner  Stainless Steel  Stainless Steel   \n",
       "1                  Omega          Seamaster         Titanium           Rubber   \n",
       "2              Tag Heuer            Carrera  Stainless Steel          Leather   \n",
       "3              Breitling          Navitimer  Stainless Steel  Stainless Steel   \n",
       "4                Cartier          Tank Solo  Stainless Steel          Leather   \n",
       "..                   ...                ...              ...              ...   \n",
       "502              Breguet          Classique    18k Rose Gold          Leather   \n",
       "503            Blancpain      Fifty Fathoms  Stainless Steel           Fabric   \n",
       "504             Longines  Master Collection  Stainless Steel          Leather   \n",
       "505  Vacheron Constantin           Overseas  Stainless Steel  Stainless Steel   \n",
       "506  Frederique Constant           Classics  Stainless Steel          Leather   \n",
       "\n",
       "    Movement Type Water Resistance  Case Diameter (mm)  Case Thickness (mm)  \\\n",
       "0       Automatic       300 meters                40.0                13.00   \n",
       "1       Automatic       600 meters                43.5                14.47   \n",
       "2       Automatic       100 meters                41.0                13.00   \n",
       "3       Automatic        30 meters                43.0                14.25   \n",
       "4          Quartz        30 meters                31.0                 6.05   \n",
       "..            ...              ...                 ...                  ...   \n",
       "502     Automatic        30 meters                38.5                 8.25   \n",
       "503     Automatic       300 meters                45.0                15.50   \n",
       "504     Automatic        30 meters                38.5                 9.70   \n",
       "505     Automatic       150 meters                41.5                11.00   \n",
       "506     Automatic        50 meters                40.0                10.60   \n",
       "\n",
       "     Band Width (mm) Dial Color Crystal Material Complications Power Reserve  \\\n",
       "0               20.0      Black         Sapphire          Date      48 hours   \n",
       "1               21.0       Blue         Sapphire          Date      60 hours   \n",
       "2               20.0      White         Sapphire   Chronograph      42 hours   \n",
       "3               22.0      Black         Sapphire   Chronograph      70 hours   \n",
       "4               20.0     Silver         Sapphire           NaN           NaN   \n",
       "..               ...        ...              ...           ...           ...   \n",
       "502             20.0      White         Sapphire          Date      38 hours   \n",
       "503             23.0      Black         Sapphire          Date     120 hours   \n",
       "504             20.0       Blue         Sapphire          Date      64 hours   \n",
       "505             22.0       Blue         Sapphire          Date      40 hours   \n",
       "506             20.0     Silver         Sapphire          Date      38 hours   \n",
       "\n",
       "    Price (USD)  \n",
       "0         9,500  \n",
       "1         5,800  \n",
       "2         4,200  \n",
       "3         7,900  \n",
       "4         2,800  \n",
       "..          ...  \n",
       "502      21,500  \n",
       "503      13,500  \n",
       "504       1,800  \n",
       "505      19,000  \n",
       "506       1,200  \n",
       "\n",
       "[507 rows x 14 columns]"
      ]
     },
     "execution_count": 7,
     "metadata": {},
     "output_type": "execute_result"
    }
   ],
   "source": [
    "# Displaying the dataset\n",
    "lux_data"
   ]
  },
  {
   "cell_type": "markdown",
   "id": "322c4d48",
   "metadata": {},
   "source": [
    "### 3. Data Exploration "
   ]
  },
  {
   "cell_type": "markdown",
   "id": "d81696c6",
   "metadata": {},
   "source": [
    "##### 3.1 FAMILIARIZING WITH THE DATA "
   ]
  },
  {
   "cell_type": "code",
   "execution_count": 10,
   "id": "57817abe",
   "metadata": {},
   "outputs": [
    {
     "name": "stdout",
     "output_type": "stream",
     "text": [
      "Total number of rows are present in this dataset : 507 \n",
      "Total number of columns are present in this dataset : 14\n"
     ]
    }
   ],
   "source": [
    "# Calculating the total number of Rows and Columns are present in this dataset\n",
    "rows,cols=lux_data.shape\n",
    "print(f\"Total number of rows are present in this dataset : {rows} \\nTotal number of columns are present in this dataset : {cols}\")"
   ]
  },
  {
   "cell_type": "code",
   "execution_count": 11,
   "id": "085bbd58",
   "metadata": {},
   "outputs": [
    {
     "data": {
      "text/html": [
       "<div>\n",
       "<style scoped>\n",
       "    .dataframe tbody tr th:only-of-type {\n",
       "        vertical-align: middle;\n",
       "    }\n",
       "\n",
       "    .dataframe tbody tr th {\n",
       "        vertical-align: top;\n",
       "    }\n",
       "\n",
       "    .dataframe thead th {\n",
       "        text-align: right;\n",
       "    }\n",
       "</style>\n",
       "<table border=\"1\" class=\"dataframe\">\n",
       "  <thead>\n",
       "    <tr style=\"text-align: right;\">\n",
       "      <th></th>\n",
       "      <th>Brand</th>\n",
       "      <th>Model</th>\n",
       "      <th>Case Material</th>\n",
       "      <th>Strap Material</th>\n",
       "      <th>Movement Type</th>\n",
       "      <th>Water Resistance</th>\n",
       "      <th>Case Diameter (mm)</th>\n",
       "      <th>Case Thickness (mm)</th>\n",
       "      <th>Band Width (mm)</th>\n",
       "      <th>Dial Color</th>\n",
       "      <th>Crystal Material</th>\n",
       "      <th>Complications</th>\n",
       "      <th>Power Reserve</th>\n",
       "      <th>Price (USD)</th>\n",
       "    </tr>\n",
       "  </thead>\n",
       "  <tbody>\n",
       "    <tr>\n",
       "      <th>0</th>\n",
       "      <td>Rolex</td>\n",
       "      <td>Submariner</td>\n",
       "      <td>Stainless Steel</td>\n",
       "      <td>Stainless Steel</td>\n",
       "      <td>Automatic</td>\n",
       "      <td>300 meters</td>\n",
       "      <td>40.0</td>\n",
       "      <td>13.00</td>\n",
       "      <td>20.0</td>\n",
       "      <td>Black</td>\n",
       "      <td>Sapphire</td>\n",
       "      <td>Date</td>\n",
       "      <td>48 hours</td>\n",
       "      <td>9,500</td>\n",
       "    </tr>\n",
       "    <tr>\n",
       "      <th>1</th>\n",
       "      <td>Omega</td>\n",
       "      <td>Seamaster</td>\n",
       "      <td>Titanium</td>\n",
       "      <td>Rubber</td>\n",
       "      <td>Automatic</td>\n",
       "      <td>600 meters</td>\n",
       "      <td>43.5</td>\n",
       "      <td>14.47</td>\n",
       "      <td>21.0</td>\n",
       "      <td>Blue</td>\n",
       "      <td>Sapphire</td>\n",
       "      <td>Date</td>\n",
       "      <td>60 hours</td>\n",
       "      <td>5,800</td>\n",
       "    </tr>\n",
       "    <tr>\n",
       "      <th>2</th>\n",
       "      <td>Tag Heuer</td>\n",
       "      <td>Carrera</td>\n",
       "      <td>Stainless Steel</td>\n",
       "      <td>Leather</td>\n",
       "      <td>Automatic</td>\n",
       "      <td>100 meters</td>\n",
       "      <td>41.0</td>\n",
       "      <td>13.00</td>\n",
       "      <td>20.0</td>\n",
       "      <td>White</td>\n",
       "      <td>Sapphire</td>\n",
       "      <td>Chronograph</td>\n",
       "      <td>42 hours</td>\n",
       "      <td>4,200</td>\n",
       "    </tr>\n",
       "    <tr>\n",
       "      <th>3</th>\n",
       "      <td>Breitling</td>\n",
       "      <td>Navitimer</td>\n",
       "      <td>Stainless Steel</td>\n",
       "      <td>Stainless Steel</td>\n",
       "      <td>Automatic</td>\n",
       "      <td>30 meters</td>\n",
       "      <td>43.0</td>\n",
       "      <td>14.25</td>\n",
       "      <td>22.0</td>\n",
       "      <td>Black</td>\n",
       "      <td>Sapphire</td>\n",
       "      <td>Chronograph</td>\n",
       "      <td>70 hours</td>\n",
       "      <td>7,900</td>\n",
       "    </tr>\n",
       "    <tr>\n",
       "      <th>4</th>\n",
       "      <td>Cartier</td>\n",
       "      <td>Tank Solo</td>\n",
       "      <td>Stainless Steel</td>\n",
       "      <td>Leather</td>\n",
       "      <td>Quartz</td>\n",
       "      <td>30 meters</td>\n",
       "      <td>31.0</td>\n",
       "      <td>6.05</td>\n",
       "      <td>20.0</td>\n",
       "      <td>Silver</td>\n",
       "      <td>Sapphire</td>\n",
       "      <td>NaN</td>\n",
       "      <td>NaN</td>\n",
       "      <td>2,800</td>\n",
       "    </tr>\n",
       "  </tbody>\n",
       "</table>\n",
       "</div>"
      ],
      "text/plain": [
       "       Brand       Model    Case Material   Strap Material Movement Type  \\\n",
       "0      Rolex  Submariner  Stainless Steel  Stainless Steel     Automatic   \n",
       "1      Omega   Seamaster         Titanium           Rubber     Automatic   \n",
       "2  Tag Heuer     Carrera  Stainless Steel          Leather     Automatic   \n",
       "3  Breitling   Navitimer  Stainless Steel  Stainless Steel     Automatic   \n",
       "4    Cartier   Tank Solo  Stainless Steel          Leather        Quartz   \n",
       "\n",
       "  Water Resistance  Case Diameter (mm)  Case Thickness (mm)  Band Width (mm)  \\\n",
       "0       300 meters                40.0                13.00             20.0   \n",
       "1       600 meters                43.5                14.47             21.0   \n",
       "2       100 meters                41.0                13.00             20.0   \n",
       "3        30 meters                43.0                14.25             22.0   \n",
       "4        30 meters                31.0                 6.05             20.0   \n",
       "\n",
       "  Dial Color Crystal Material Complications Power Reserve Price (USD)  \n",
       "0      Black         Sapphire          Date      48 hours       9,500  \n",
       "1       Blue         Sapphire          Date      60 hours       5,800  \n",
       "2      White         Sapphire   Chronograph      42 hours       4,200  \n",
       "3      Black         Sapphire   Chronograph      70 hours       7,900  \n",
       "4     Silver         Sapphire           NaN           NaN       2,800  "
      ]
     },
     "execution_count": 11,
     "metadata": {},
     "output_type": "execute_result"
    }
   ],
   "source": [
    "# By default giving top 5 data of the dataset which we generally called \"head\"\n",
    "lux_data.head()"
   ]
  },
  {
   "cell_type": "code",
   "execution_count": 12,
   "id": "27843b25",
   "metadata": {},
   "outputs": [
    {
     "data": {
      "text/html": [
       "<div>\n",
       "<style scoped>\n",
       "    .dataframe tbody tr th:only-of-type {\n",
       "        vertical-align: middle;\n",
       "    }\n",
       "\n",
       "    .dataframe tbody tr th {\n",
       "        vertical-align: top;\n",
       "    }\n",
       "\n",
       "    .dataframe thead th {\n",
       "        text-align: right;\n",
       "    }\n",
       "</style>\n",
       "<table border=\"1\" class=\"dataframe\">\n",
       "  <thead>\n",
       "    <tr style=\"text-align: right;\">\n",
       "      <th></th>\n",
       "      <th>Brand</th>\n",
       "      <th>Model</th>\n",
       "      <th>Case Material</th>\n",
       "      <th>Strap Material</th>\n",
       "      <th>Movement Type</th>\n",
       "      <th>Water Resistance</th>\n",
       "      <th>Case Diameter (mm)</th>\n",
       "      <th>Case Thickness (mm)</th>\n",
       "      <th>Band Width (mm)</th>\n",
       "      <th>Dial Color</th>\n",
       "      <th>Crystal Material</th>\n",
       "      <th>Complications</th>\n",
       "      <th>Power Reserve</th>\n",
       "      <th>Price (USD)</th>\n",
       "    </tr>\n",
       "  </thead>\n",
       "  <tbody>\n",
       "    <tr>\n",
       "      <th>502</th>\n",
       "      <td>Breguet</td>\n",
       "      <td>Classique</td>\n",
       "      <td>18k Rose Gold</td>\n",
       "      <td>Leather</td>\n",
       "      <td>Automatic</td>\n",
       "      <td>30 meters</td>\n",
       "      <td>38.5</td>\n",
       "      <td>8.25</td>\n",
       "      <td>20.0</td>\n",
       "      <td>White</td>\n",
       "      <td>Sapphire</td>\n",
       "      <td>Date</td>\n",
       "      <td>38 hours</td>\n",
       "      <td>21,500</td>\n",
       "    </tr>\n",
       "    <tr>\n",
       "      <th>503</th>\n",
       "      <td>Blancpain</td>\n",
       "      <td>Fifty Fathoms</td>\n",
       "      <td>Stainless Steel</td>\n",
       "      <td>Fabric</td>\n",
       "      <td>Automatic</td>\n",
       "      <td>300 meters</td>\n",
       "      <td>45.0</td>\n",
       "      <td>15.50</td>\n",
       "      <td>23.0</td>\n",
       "      <td>Black</td>\n",
       "      <td>Sapphire</td>\n",
       "      <td>Date</td>\n",
       "      <td>120 hours</td>\n",
       "      <td>13,500</td>\n",
       "    </tr>\n",
       "    <tr>\n",
       "      <th>504</th>\n",
       "      <td>Longines</td>\n",
       "      <td>Master Collection</td>\n",
       "      <td>Stainless Steel</td>\n",
       "      <td>Leather</td>\n",
       "      <td>Automatic</td>\n",
       "      <td>30 meters</td>\n",
       "      <td>38.5</td>\n",
       "      <td>9.70</td>\n",
       "      <td>20.0</td>\n",
       "      <td>Blue</td>\n",
       "      <td>Sapphire</td>\n",
       "      <td>Date</td>\n",
       "      <td>64 hours</td>\n",
       "      <td>1,800</td>\n",
       "    </tr>\n",
       "    <tr>\n",
       "      <th>505</th>\n",
       "      <td>Vacheron Constantin</td>\n",
       "      <td>Overseas</td>\n",
       "      <td>Stainless Steel</td>\n",
       "      <td>Stainless Steel</td>\n",
       "      <td>Automatic</td>\n",
       "      <td>150 meters</td>\n",
       "      <td>41.5</td>\n",
       "      <td>11.00</td>\n",
       "      <td>22.0</td>\n",
       "      <td>Blue</td>\n",
       "      <td>Sapphire</td>\n",
       "      <td>Date</td>\n",
       "      <td>40 hours</td>\n",
       "      <td>19,000</td>\n",
       "    </tr>\n",
       "    <tr>\n",
       "      <th>506</th>\n",
       "      <td>Frederique Constant</td>\n",
       "      <td>Classics</td>\n",
       "      <td>Stainless Steel</td>\n",
       "      <td>Leather</td>\n",
       "      <td>Automatic</td>\n",
       "      <td>50 meters</td>\n",
       "      <td>40.0</td>\n",
       "      <td>10.60</td>\n",
       "      <td>20.0</td>\n",
       "      <td>Silver</td>\n",
       "      <td>Sapphire</td>\n",
       "      <td>Date</td>\n",
       "      <td>38 hours</td>\n",
       "      <td>1,200</td>\n",
       "    </tr>\n",
       "  </tbody>\n",
       "</table>\n",
       "</div>"
      ],
      "text/plain": [
       "                   Brand              Model    Case Material   Strap Material  \\\n",
       "502              Breguet          Classique    18k Rose Gold          Leather   \n",
       "503            Blancpain      Fifty Fathoms  Stainless Steel           Fabric   \n",
       "504             Longines  Master Collection  Stainless Steel          Leather   \n",
       "505  Vacheron Constantin           Overseas  Stainless Steel  Stainless Steel   \n",
       "506  Frederique Constant           Classics  Stainless Steel          Leather   \n",
       "\n",
       "    Movement Type Water Resistance  Case Diameter (mm)  Case Thickness (mm)  \\\n",
       "502     Automatic        30 meters                38.5                 8.25   \n",
       "503     Automatic       300 meters                45.0                15.50   \n",
       "504     Automatic        30 meters                38.5                 9.70   \n",
       "505     Automatic       150 meters                41.5                11.00   \n",
       "506     Automatic        50 meters                40.0                10.60   \n",
       "\n",
       "     Band Width (mm) Dial Color Crystal Material Complications Power Reserve  \\\n",
       "502             20.0      White         Sapphire          Date      38 hours   \n",
       "503             23.0      Black         Sapphire          Date     120 hours   \n",
       "504             20.0       Blue         Sapphire          Date      64 hours   \n",
       "505             22.0       Blue         Sapphire          Date      40 hours   \n",
       "506             20.0     Silver         Sapphire          Date      38 hours   \n",
       "\n",
       "    Price (USD)  \n",
       "502      21,500  \n",
       "503      13,500  \n",
       "504       1,800  \n",
       "505      19,000  \n",
       "506       1,200  "
      ]
     },
     "execution_count": 12,
     "metadata": {},
     "output_type": "execute_result"
    }
   ],
   "source": [
    "# By default giving bottom 5 data of the dataset which we generally called \"tail\"\n",
    "lux_data.tail()"
   ]
  },
  {
   "cell_type": "code",
   "execution_count": 14,
   "id": "08cd2750",
   "metadata": {},
   "outputs": [
    {
     "name": "stdout",
     "output_type": "stream",
     "text": [
      "<class 'pandas.core.frame.DataFrame'>\n",
      "RangeIndex: 507 entries, 0 to 506\n",
      "Data columns (total 14 columns):\n",
      " #   Column               Non-Null Count  Dtype  \n",
      "---  ------               --------------  -----  \n",
      " 0   Brand                507 non-null    object \n",
      " 1   Model                507 non-null    object \n",
      " 2   Case Material        507 non-null    object \n",
      " 3   Strap Material       507 non-null    object \n",
      " 4   Movement Type        507 non-null    object \n",
      " 5   Water Resistance     507 non-null    object \n",
      " 6   Case Diameter (mm)   507 non-null    float64\n",
      " 7   Case Thickness (mm)  507 non-null    float64\n",
      " 8   Band Width (mm)      507 non-null    float64\n",
      " 9   Dial Color           507 non-null    object \n",
      " 10  Crystal Material     507 non-null    object \n",
      " 11  Complications        385 non-null    object \n",
      " 12  Power Reserve        493 non-null    object \n",
      " 13  Price (USD)          506 non-null    object \n",
      "dtypes: float64(3), object(11)\n",
      "memory usage: 55.6+ KB\n"
     ]
    }
   ],
   "source": [
    "lux_data.info()"
   ]
  },
  {
   "cell_type": "code",
   "execution_count": 15,
   "id": "d434b1b9",
   "metadata": {},
   "outputs": [
    {
     "data": {
      "text/html": [
       "<div>\n",
       "<style scoped>\n",
       "    .dataframe tbody tr th:only-of-type {\n",
       "        vertical-align: middle;\n",
       "    }\n",
       "\n",
       "    .dataframe tbody tr th {\n",
       "        vertical-align: top;\n",
       "    }\n",
       "\n",
       "    .dataframe thead th {\n",
       "        text-align: right;\n",
       "    }\n",
       "</style>\n",
       "<table border=\"1\" class=\"dataframe\">\n",
       "  <thead>\n",
       "    <tr style=\"text-align: right;\">\n",
       "      <th></th>\n",
       "      <th>Case Diameter (mm)</th>\n",
       "      <th>Case Thickness (mm)</th>\n",
       "      <th>Band Width (mm)</th>\n",
       "    </tr>\n",
       "  </thead>\n",
       "  <tbody>\n",
       "    <tr>\n",
       "      <th>count</th>\n",
       "      <td>507.000000</td>\n",
       "      <td>507.000000</td>\n",
       "      <td>507.000000</td>\n",
       "    </tr>\n",
       "    <tr>\n",
       "      <th>mean</th>\n",
       "      <td>41.046154</td>\n",
       "      <td>11.588343</td>\n",
       "      <td>21.105523</td>\n",
       "    </tr>\n",
       "    <tr>\n",
       "      <th>std</th>\n",
       "      <td>2.535339</td>\n",
       "      <td>2.491481</td>\n",
       "      <td>1.658375</td>\n",
       "    </tr>\n",
       "    <tr>\n",
       "      <th>min</th>\n",
       "      <td>27.500000</td>\n",
       "      <td>5.000000</td>\n",
       "      <td>15.000000</td>\n",
       "    </tr>\n",
       "    <tr>\n",
       "      <th>25%</th>\n",
       "      <td>40.000000</td>\n",
       "      <td>9.800000</td>\n",
       "      <td>20.000000</td>\n",
       "    </tr>\n",
       "    <tr>\n",
       "      <th>50%</th>\n",
       "      <td>41.000000</td>\n",
       "      <td>12.000000</td>\n",
       "      <td>20.000000</td>\n",
       "    </tr>\n",
       "    <tr>\n",
       "      <th>75%</th>\n",
       "      <td>42.000000</td>\n",
       "      <td>13.300000</td>\n",
       "      <td>22.000000</td>\n",
       "    </tr>\n",
       "    <tr>\n",
       "      <th>max</th>\n",
       "      <td>46.500000</td>\n",
       "      <td>17.500000</td>\n",
       "      <td>28.000000</td>\n",
       "    </tr>\n",
       "  </tbody>\n",
       "</table>\n",
       "</div>"
      ],
      "text/plain": [
       "       Case Diameter (mm)  Case Thickness (mm)  Band Width (mm)\n",
       "count          507.000000           507.000000       507.000000\n",
       "mean            41.046154            11.588343        21.105523\n",
       "std              2.535339             2.491481         1.658375\n",
       "min             27.500000             5.000000        15.000000\n",
       "25%             40.000000             9.800000        20.000000\n",
       "50%             41.000000            12.000000        20.000000\n",
       "75%             42.000000            13.300000        22.000000\n",
       "max             46.500000            17.500000        28.000000"
      ]
     },
     "execution_count": 15,
     "metadata": {},
     "output_type": "execute_result"
    }
   ],
   "source": [
    "# General overview of the data in numbers\n",
    "lux_data.describe()"
   ]
  },
  {
   "cell_type": "markdown",
   "id": "43eed33b",
   "metadata": {},
   "source": [
    "##### 3.3  DATA CLEANING"
   ]
  },
  {
   "cell_type": "markdown",
   "id": "89b22b10",
   "metadata": {},
   "source": [
    "###### 3.3.1 Handling missing values "
   ]
  },
  {
   "cell_type": "code",
   "execution_count": 18,
   "id": "428303fe",
   "metadata": {},
   "outputs": [
    {
     "name": "stdout",
     "output_type": "stream",
     "text": [
      "Brand                    0\n",
      "Model                    0\n",
      "Case Material            0\n",
      "Strap Material           0\n",
      "Movement Type            0\n",
      "Water Resistance         0\n",
      "Case Diameter (mm)       0\n",
      "Case Thickness (mm)      0\n",
      "Band Width (mm)          0\n",
      "Dial Color               0\n",
      "Crystal Material         0\n",
      "Complications          122\n",
      "Power Reserve           14\n",
      "Price (USD)              1\n",
      "dtype: int64\n"
     ]
    }
   ],
   "source": [
    "# calculating the missing values (if any)\n",
    "Nans= lux_data.isnull().sum()\n",
    "print(Nans)"
   ]
  },
  {
   "cell_type": "markdown",
   "id": "5baee65c",
   "metadata": {},
   "source": [
    "###### 3.3.2 Converting the data type "
   ]
  },
  {
   "cell_type": "markdown",
   "id": "8a65a013",
   "metadata": {},
   "source": [
    "For handling the missing values we need to convert the datatypes of both the columns (\" Power Reserve\" & \" Price (USD) \") "
   ]
  },
  {
   "cell_type": "markdown",
   "id": "c4b71d5b",
   "metadata": {},
   "source": [
    "CONVERTING THE DATA TYPE OF \"Power Reserve\" into integer type"
   ]
  },
  {
   "cell_type": "code",
   "execution_count": 22,
   "id": "33ae49e2",
   "metadata": {},
   "outputs": [],
   "source": [
    "# Remove any non-numeric characters and convert to numeric\n",
    "lux_data['Power Reserve'] = lux_data['Power Reserve'].str.replace(r'[^\\d]', '', regex=True)  # Corrected regular expression\n"
   ]
  },
  {
   "cell_type": "code",
   "execution_count": 23,
   "id": "aac56448-61aa-4e52-ac7d-f94bd35ca4c4",
   "metadata": {},
   "outputs": [],
   "source": [
    "# Convert to numeric (integer)\n",
    "lux_data['Power Reserve'] = pd.to_numeric(lux_data['Power Reserve'], errors='coerce').astype('Int64')\n"
   ]
  },
  {
   "cell_type": "markdown",
   "id": "0918401e",
   "metadata": {},
   "source": [
    "CONVERTING THE DATA TYPE OF \"Price (USD)\" into integer type"
   ]
  },
  {
   "cell_type": "code",
   "execution_count": 25,
   "id": "1b5eff58",
   "metadata": {},
   "outputs": [],
   "source": [
    "# Remove any non-numeric characters and convert to numeric\n",
    "lux_data['Price (USD)'] = lux_data['Price (USD)'].str.replace(r'[^\\d]', '', regex=True)"
   ]
  },
  {
   "cell_type": "code",
   "execution_count": 26,
   "id": "b7c6a403-77fb-4e09-8466-319ea43e5848",
   "metadata": {},
   "outputs": [],
   "source": [
    "# Convert to numeric (integer)\n",
    "lux_data['Price (USD)'] = pd.to_numeric(lux_data['Price (USD)'], errors='coerce').astype('Int64')"
   ]
  },
  {
   "cell_type": "code",
   "execution_count": 27,
   "id": "7e240462-a0e2-4786-9b2b-c96c0bcd4e34",
   "metadata": {},
   "outputs": [
    {
     "data": {
      "text/plain": [
       "Int64Dtype()"
      ]
     },
     "execution_count": 27,
     "metadata": {},
     "output_type": "execute_result"
    }
   ],
   "source": [
    "lux_data['Price (USD)'].dtype"
   ]
  },
  {
   "cell_type": "markdown",
   "id": "f78cdf5f",
   "metadata": {},
   "source": [
    "FILLING THE MISSING NANs WITH THE MEDIAN OF BOTH THE COLUMNS RESPECTIVELY"
   ]
  },
  {
   "cell_type": "code",
   "execution_count": 30,
   "id": "d430a057",
   "metadata": {},
   "outputs": [],
   "source": [
    "# Fill missing values for numerical columns with median\n",
    "lux_data['Power Reserve'] = lux_data['Power Reserve'].fillna(lux_data['Power Reserve'].median())"
   ]
  },
  {
   "cell_type": "code",
   "execution_count": 31,
   "id": "16e16fe5-1c43-4388-845a-efd3498cfb9f",
   "metadata": {},
   "outputs": [],
   "source": [
    "lux_data['Price (USD)'] = lux_data['Price (USD)'].fillna(lux_data['Price (USD)'].median())"
   ]
  },
  {
   "cell_type": "markdown",
   "id": "77926f3c",
   "metadata": {},
   "source": [
    "NOW PRINTING THE DATASET AGAIN TO RE-CHECK THE UPDATED VALUES ON THE PLACE OF NANs"
   ]
  },
  {
   "cell_type": "code",
   "execution_count": 33,
   "id": "9bd79fd4-f364-4374-8959-a6bd017463d6",
   "metadata": {},
   "outputs": [
    {
     "data": {
      "text/plain": [
       "<bound method Series.median of 0             Date\n",
       "1             Date\n",
       "2      Chronograph\n",
       "3      Chronograph\n",
       "4              NaN\n",
       "          ...     \n",
       "502           Date\n",
       "503           Date\n",
       "504           Date\n",
       "505           Date\n",
       "506           Date\n",
       "Name: Complications, Length: 507, dtype: object>"
      ]
     },
     "execution_count": 33,
     "metadata": {},
     "output_type": "execute_result"
    }
   ],
   "source": [
    "lux_data['Complications'].median"
   ]
  },
  {
   "cell_type": "code",
   "execution_count": 35,
   "id": "24575948-7c8a-4498-bfa5-593f216e731f",
   "metadata": {},
   "outputs": [],
   "source": [
    "lux_data['Complications'].fillna(lux_data['Complications'].median, inplace=True)"
   ]
  },
  {
   "cell_type": "code",
   "execution_count": 37,
   "id": "f9483558",
   "metadata": {},
   "outputs": [
    {
     "name": "stdout",
     "output_type": "stream",
     "text": [
      "Brand                  0\n",
      "Model                  0\n",
      "Case Material          0\n",
      "Strap Material         0\n",
      "Movement Type          0\n",
      "Water Resistance       0\n",
      "Case Diameter (mm)     0\n",
      "Case Thickness (mm)    0\n",
      "Band Width (mm)        0\n",
      "Dial Color             0\n",
      "Crystal Material       0\n",
      "Complications          0\n",
      "Power Reserve          0\n",
      "Price (USD)            0\n",
      "dtype: int64\n"
     ]
    }
   ],
   "source": [
    "Nans= lux_data.isnull().sum()\n",
    "print(Nans)"
   ]
  },
  {
   "cell_type": "code",
   "execution_count": null,
   "id": "69124145-619e-4312-b57f-6159f1ea1c20",
   "metadata": {},
   "outputs": [],
   "source": []
  },
  {
   "cell_type": "markdown",
   "id": "1e523347",
   "metadata": {},
   "source": [
    "### 4. Feature Engineering "
   ]
  },
  {
   "cell_type": "markdown",
   "id": "43cf153f",
   "metadata": {},
   "source": [
    "#### 4.1 Categorical Encoding"
   ]
  },
  {
   "cell_type": "markdown",
   "id": "920cee08",
   "metadata": {},
   "source": [
    "Before applying any such encoding we are counting the values of each feature."
   ]
  },
  {
   "cell_type": "code",
   "execution_count": 57,
   "id": "7c8d5b08",
   "metadata": {},
   "outputs": [
    {
     "name": "stdout",
     "output_type": "stream",
     "text": [
      "Brand\n",
      "IWC                    39\n",
      "Audemars Piguet        38\n",
      "Patek Philippe         33\n",
      "Zenith                 30\n",
      "Blancpain              29\n",
      "Rolex                  27\n",
      "Breguet                26\n",
      "Hublot                 26\n",
      "Panerai                25\n",
      "Vacheron Constantin    25\n",
      "Omega                  23\n",
      "Girard-Perregaux       20\n",
      "Cartier                19\n",
      "Jaeger-LeCoultre       16\n",
      "Breitling              16\n",
      "Chopard                14\n",
      "Tudor                  14\n",
      "Tag Heuer              11\n",
      "Longines               10\n",
      "Ulysse Nardin          10\n",
      "Montblanc               9\n",
      "Piaget                  6\n",
      "Jaquet Droz             5\n",
      "Seiko                   5\n",
      "Bell & Ross             4\n",
      "Hamilton                4\n",
      "Sinn                    3\n",
      "Bulgari                 3\n",
      "Citizen                 2\n",
      "Oris                    2\n",
      "Tissot                  2\n",
      "Frederique Constant     2\n",
      "TAG Heuer               2\n",
      "A. Lange & Söhne        2\n",
      "Glashütte Original      1\n",
      "Bulova                  1\n",
      "A. Lange & Sohne        1\n",
      "Rado                    1\n",
      "Baume & Mercier         1\n",
      "Name: count, dtype: int64\n"
     ]
    }
   ],
   "source": [
    "count=lux_data['Brand'].value_counts()\n",
    "print(count)"
   ]
  },
  {
   "cell_type": "code",
   "execution_count": 60,
   "id": "f98c79d7",
   "metadata": {},
   "outputs": [
    {
     "data": {
      "text/plain": [
       "Model\n",
       "Royal Oak             38\n",
       "Fifty Fathoms         29\n",
       "Nautilus              26\n",
       "Classique             24\n",
       "Portugieser           24\n",
       "                      ..\n",
       "True Thinline          1\n",
       "Big Crown ProPilot     1\n",
       "Marine Torpilleur      1\n",
       "U50                    1\n",
       "Polo                   1\n",
       "Name: count, Length: 95, dtype: int64"
      ]
     },
     "execution_count": 60,
     "metadata": {},
     "output_type": "execute_result"
    }
   ],
   "source": [
    "count_df=lux_data['Model'].value_counts()\n",
    "count_df"
   ]
  },
  {
   "cell_type": "code",
   "execution_count": 61,
   "id": "faee332d",
   "metadata": {},
   "outputs": [
    {
     "data": {
      "text/plain": [
       "array(['Submariner', 'Seamaster', 'Carrera', 'Navitimer', 'Tank Solo',\n",
       "       'Reverso', 'Prospex', 'Promaster', 'Le Locle', 'Khaki Field',\n",
       "       'Master Collection', 'Big Crown ProPilot', 'Aviation', '104',\n",
       "       'Classique', 'Royal Oak', 'Overseas', 'Speedmaster', 'Superocean',\n",
       "       'Luminor Base Logo', 'Black Bay', 'GMT-Master II', \"Pilot's Watch\",\n",
       "       'Master Ultra Thin', 'BR 03-92', '1858 Geosphere', 'Santos-Dumont',\n",
       "       'Datejust', 'Speedmaster Moonwatch', 'Portugieser',\n",
       "       'Fifty Fathoms', 'El Primero', 'Polo S', 'Marine',\n",
       "       'Grande Seconde', 'Type XXI', 'Octo Finissimo', 'Mille Miglia',\n",
       "       'Laureato', 'Senator', 'Classic Fusion', 'Nautilus',\n",
       "       'Chronomaster', '1858', 'Luminor Marina', 'Luminor', 'Type XX',\n",
       "       'HydroConquest', 'Khaki Field Auto', 'Precisionist',\n",
       "       'Superocean Heritage', 'Master Control', 'Santos', 'Elite',\n",
       "       'Luminor Base', 'Conquest VHP', 'U1', 'Saxonia', 'Big Bang',\n",
       "       'Altiplano', 'Luminor Due', 'Patrimony', 'Conquest', 'Ballon Bleu',\n",
       "       'Calatrava', 'Defy', 'Jazzmaster', 'Heritage', 'True Thinline',\n",
       "       'Classics', 'Marine Torpilleur', 'U50', 'Aquaracer', 'BR V2-92',\n",
       "       'Superocean Heritage II', 'Santos de Cartier',\n",
       "       \"Pilot's Watch Mark XVIII\", 'Black Bay GMT', 'Divers Sixty-Five',\n",
       "       'Happy Sport', 'Monaco', 'Aqua Terra', 'Avenger II', 'Daytona',\n",
       "       'Portugieser Chronograph', 'Chronomaster El Primero', 'Portuguese',\n",
       "       'Elite Classic', 'Conquest Classic', 'Star Legacy',\n",
       "       'Clifton Baumatic', \"Pilot's Watch Mark\", 'Constellation',\n",
       "       'Chronomat', 'Polo'], dtype=object)"
      ]
     },
     "execution_count": 61,
     "metadata": {},
     "output_type": "execute_result"
    }
   ],
   "source": [
    "lux_data['Model'].unique()"
   ]
  },
  {
   "cell_type": "code",
   "execution_count": 62,
   "id": "14facd73",
   "metadata": {},
   "outputs": [
    {
     "name": "stdout",
     "output_type": "stream",
     "text": [
      "Case Material\n",
      "Stainless Steel           404\n",
      "Titanium                   37\n",
      "Rose Gold                  12\n",
      "18k Rose Gold              10\n",
      "Ceramic                     9\n",
      "White Gold                  9\n",
      "18k White Gold              7\n",
      "18K White Gold              5\n",
      "18K Rose Gold               3\n",
      "Carbon Fiber                3\n",
      "18K Yellow Gold             2\n",
      "High-Tech Ceramic           1\n",
      "German Submarine Steel      1\n",
      "Bronze                      1\n",
      "Yellow Gold                 1\n",
      "18k King Gold               1\n",
      "18k Yellow Gold             1\n",
      "Name: count, dtype: int64\n"
     ]
    }
   ],
   "source": [
    "count=lux_data['Case Material'].value_counts()\n",
    "print(count)"
   ]
  },
  {
   "cell_type": "code",
   "execution_count": 64,
   "id": "cb5a8373",
   "metadata": {},
   "outputs": [
    {
     "name": "stdout",
     "output_type": "stream",
     "text": [
      "Strap Material\n",
      "Leather             224\n",
      "Stainless Steel     166\n",
      "Rubber               74\n",
      "Fabric               11\n",
      "Canvas               10\n",
      "Silicone              5\n",
      "NATO Strap            4\n",
      "Jubilee Bracelet      3\n",
      "Jubilee               2\n",
      "Alligator             2\n",
      "Titanium              2\n",
      "Rose Gold             2\n",
      "Textile               1\n",
      "NATO strap            1\n",
      "Name: count, dtype: int64\n"
     ]
    }
   ],
   "source": [
    "count=lux_data['Strap Material'].value_counts()\n",
    "print(count)"
   ]
  },
  {
   "cell_type": "code",
   "execution_count": 69,
   "id": "f47d8977",
   "metadata": {},
   "outputs": [
    {
     "name": "stdout",
     "output_type": "stream",
     "text": [
      "Crystal Material\n",
      "Sapphire    489\n",
      "Hesalite     13\n",
      "Hardlex       3\n",
      "Mineral       2\n",
      "Name: count, dtype: int64\n"
     ]
    }
   ],
   "source": [
    "count=lux_data['Crystal Material'].value_counts()\n",
    "print(count)"
   ]
  },
  {
   "cell_type": "code",
   "execution_count": 71,
   "id": "b08fe5f1",
   "metadata": {},
   "outputs": [
    {
     "name": "stdout",
     "output_type": "stream",
     "text": [
      "Movement Type\n",
      "Automatic    442\n",
      "Manual        51\n",
      "Quartz        12\n",
      "Eco-Drive      2\n",
      "Name: count, dtype: int64\n"
     ]
    }
   ],
   "source": [
    "count=lux_data['Movement Type'].value_counts()\n",
    "print(count)"
   ]
  },
  {
   "cell_type": "code",
   "execution_count": 73,
   "id": "f33ca3fc",
   "metadata": {},
   "outputs": [
    {
     "name": "stdout",
     "output_type": "stream",
     "text": [
      "Dial Color\n",
      "Black        217\n",
      "Blue         136\n",
      "Silver       118\n",
      "White         33\n",
      "Ivory          1\n",
      "Champagne      1\n",
      "Grey           1\n",
      "Name: count, dtype: int64\n"
     ]
    }
   ],
   "source": [
    "count=lux_data['Dial Color'].value_counts()\n",
    "print(count)"
   ]
  },
  {
   "cell_type": "markdown",
   "id": "1c600f89",
   "metadata": {},
   "source": [
    "###### 4.1.1 LabelEncoding"
   ]
  },
  {
   "cell_type": "markdown",
   "id": "e5499d00",
   "metadata": {},
   "source": [
    "Applying LabelEncoding on few features :"
   ]
  },
  {
   "cell_type": "code",
   "execution_count": 77,
   "id": "2bb68a11",
   "metadata": {},
   "outputs": [],
   "source": [
    "label_encoder = LabelEncoder()\n",
    "lux_data['Brand'] = label_encoder.fit_transform(lux_data['Brand'])\n",
    "lux_data['Model'] = label_encoder.fit_transform(lux_data['Model'])"
   ]
  },
  {
   "cell_type": "code",
   "execution_count": 79,
   "id": "09d614ec",
   "metadata": {},
   "outputs": [
    {
     "data": {
      "text/html": [
       "<style>#sk-container-id-1 {\n",
       "  /* Definition of color scheme common for light and dark mode */\n",
       "  --sklearn-color-text: black;\n",
       "  --sklearn-color-line: gray;\n",
       "  /* Definition of color scheme for unfitted estimators */\n",
       "  --sklearn-color-unfitted-level-0: #fff5e6;\n",
       "  --sklearn-color-unfitted-level-1: #f6e4d2;\n",
       "  --sklearn-color-unfitted-level-2: #ffe0b3;\n",
       "  --sklearn-color-unfitted-level-3: chocolate;\n",
       "  /* Definition of color scheme for fitted estimators */\n",
       "  --sklearn-color-fitted-level-0: #f0f8ff;\n",
       "  --sklearn-color-fitted-level-1: #d4ebff;\n",
       "  --sklearn-color-fitted-level-2: #b3dbfd;\n",
       "  --sklearn-color-fitted-level-3: cornflowerblue;\n",
       "\n",
       "  /* Specific color for light theme */\n",
       "  --sklearn-color-text-on-default-background: var(--sg-text-color, var(--theme-code-foreground, var(--jp-content-font-color1, black)));\n",
       "  --sklearn-color-background: var(--sg-background-color, var(--theme-background, var(--jp-layout-color0, white)));\n",
       "  --sklearn-color-border-box: var(--sg-text-color, var(--theme-code-foreground, var(--jp-content-font-color1, black)));\n",
       "  --sklearn-color-icon: #696969;\n",
       "\n",
       "  @media (prefers-color-scheme: dark) {\n",
       "    /* Redefinition of color scheme for dark theme */\n",
       "    --sklearn-color-text-on-default-background: var(--sg-text-color, var(--theme-code-foreground, var(--jp-content-font-color1, white)));\n",
       "    --sklearn-color-background: var(--sg-background-color, var(--theme-background, var(--jp-layout-color0, #111)));\n",
       "    --sklearn-color-border-box: var(--sg-text-color, var(--theme-code-foreground, var(--jp-content-font-color1, white)));\n",
       "    --sklearn-color-icon: #878787;\n",
       "  }\n",
       "}\n",
       "\n",
       "#sk-container-id-1 {\n",
       "  color: var(--sklearn-color-text);\n",
       "}\n",
       "\n",
       "#sk-container-id-1 pre {\n",
       "  padding: 0;\n",
       "}\n",
       "\n",
       "#sk-container-id-1 input.sk-hidden--visually {\n",
       "  border: 0;\n",
       "  clip: rect(1px 1px 1px 1px);\n",
       "  clip: rect(1px, 1px, 1px, 1px);\n",
       "  height: 1px;\n",
       "  margin: -1px;\n",
       "  overflow: hidden;\n",
       "  padding: 0;\n",
       "  position: absolute;\n",
       "  width: 1px;\n",
       "}\n",
       "\n",
       "#sk-container-id-1 div.sk-dashed-wrapped {\n",
       "  border: 1px dashed var(--sklearn-color-line);\n",
       "  margin: 0 0.4em 0.5em 0.4em;\n",
       "  box-sizing: border-box;\n",
       "  padding-bottom: 0.4em;\n",
       "  background-color: var(--sklearn-color-background);\n",
       "}\n",
       "\n",
       "#sk-container-id-1 div.sk-container {\n",
       "  /* jupyter's `normalize.less` sets `[hidden] { display: none; }`\n",
       "     but bootstrap.min.css set `[hidden] { display: none !important; }`\n",
       "     so we also need the `!important` here to be able to override the\n",
       "     default hidden behavior on the sphinx rendered scikit-learn.org.\n",
       "     See: https://github.com/scikit-learn/scikit-learn/issues/21755 */\n",
       "  display: inline-block !important;\n",
       "  position: relative;\n",
       "}\n",
       "\n",
       "#sk-container-id-1 div.sk-text-repr-fallback {\n",
       "  display: none;\n",
       "}\n",
       "\n",
       "div.sk-parallel-item,\n",
       "div.sk-serial,\n",
       "div.sk-item {\n",
       "  /* draw centered vertical line to link estimators */\n",
       "  background-image: linear-gradient(var(--sklearn-color-text-on-default-background), var(--sklearn-color-text-on-default-background));\n",
       "  background-size: 2px 100%;\n",
       "  background-repeat: no-repeat;\n",
       "  background-position: center center;\n",
       "}\n",
       "\n",
       "/* Parallel-specific style estimator block */\n",
       "\n",
       "#sk-container-id-1 div.sk-parallel-item::after {\n",
       "  content: \"\";\n",
       "  width: 100%;\n",
       "  border-bottom: 2px solid var(--sklearn-color-text-on-default-background);\n",
       "  flex-grow: 1;\n",
       "}\n",
       "\n",
       "#sk-container-id-1 div.sk-parallel {\n",
       "  display: flex;\n",
       "  align-items: stretch;\n",
       "  justify-content: center;\n",
       "  background-color: var(--sklearn-color-background);\n",
       "  position: relative;\n",
       "}\n",
       "\n",
       "#sk-container-id-1 div.sk-parallel-item {\n",
       "  display: flex;\n",
       "  flex-direction: column;\n",
       "}\n",
       "\n",
       "#sk-container-id-1 div.sk-parallel-item:first-child::after {\n",
       "  align-self: flex-end;\n",
       "  width: 50%;\n",
       "}\n",
       "\n",
       "#sk-container-id-1 div.sk-parallel-item:last-child::after {\n",
       "  align-self: flex-start;\n",
       "  width: 50%;\n",
       "}\n",
       "\n",
       "#sk-container-id-1 div.sk-parallel-item:only-child::after {\n",
       "  width: 0;\n",
       "}\n",
       "\n",
       "/* Serial-specific style estimator block */\n",
       "\n",
       "#sk-container-id-1 div.sk-serial {\n",
       "  display: flex;\n",
       "  flex-direction: column;\n",
       "  align-items: center;\n",
       "  background-color: var(--sklearn-color-background);\n",
       "  padding-right: 1em;\n",
       "  padding-left: 1em;\n",
       "}\n",
       "\n",
       "\n",
       "/* Toggleable style: style used for estimator/Pipeline/ColumnTransformer box that is\n",
       "clickable and can be expanded/collapsed.\n",
       "- Pipeline and ColumnTransformer use this feature and define the default style\n",
       "- Estimators will overwrite some part of the style using the `sk-estimator` class\n",
       "*/\n",
       "\n",
       "/* Pipeline and ColumnTransformer style (default) */\n",
       "\n",
       "#sk-container-id-1 div.sk-toggleable {\n",
       "  /* Default theme specific background. It is overwritten whether we have a\n",
       "  specific estimator or a Pipeline/ColumnTransformer */\n",
       "  background-color: var(--sklearn-color-background);\n",
       "}\n",
       "\n",
       "/* Toggleable label */\n",
       "#sk-container-id-1 label.sk-toggleable__label {\n",
       "  cursor: pointer;\n",
       "  display: block;\n",
       "  width: 100%;\n",
       "  margin-bottom: 0;\n",
       "  padding: 0.5em;\n",
       "  box-sizing: border-box;\n",
       "  text-align: center;\n",
       "}\n",
       "\n",
       "#sk-container-id-1 label.sk-toggleable__label-arrow:before {\n",
       "  /* Arrow on the left of the label */\n",
       "  content: \"▸\";\n",
       "  float: left;\n",
       "  margin-right: 0.25em;\n",
       "  color: var(--sklearn-color-icon);\n",
       "}\n",
       "\n",
       "#sk-container-id-1 label.sk-toggleable__label-arrow:hover:before {\n",
       "  color: var(--sklearn-color-text);\n",
       "}\n",
       "\n",
       "/* Toggleable content - dropdown */\n",
       "\n",
       "#sk-container-id-1 div.sk-toggleable__content {\n",
       "  max-height: 0;\n",
       "  max-width: 0;\n",
       "  overflow: hidden;\n",
       "  text-align: left;\n",
       "  /* unfitted */\n",
       "  background-color: var(--sklearn-color-unfitted-level-0);\n",
       "}\n",
       "\n",
       "#sk-container-id-1 div.sk-toggleable__content.fitted {\n",
       "  /* fitted */\n",
       "  background-color: var(--sklearn-color-fitted-level-0);\n",
       "}\n",
       "\n",
       "#sk-container-id-1 div.sk-toggleable__content pre {\n",
       "  margin: 0.2em;\n",
       "  border-radius: 0.25em;\n",
       "  color: var(--sklearn-color-text);\n",
       "  /* unfitted */\n",
       "  background-color: var(--sklearn-color-unfitted-level-0);\n",
       "}\n",
       "\n",
       "#sk-container-id-1 div.sk-toggleable__content.fitted pre {\n",
       "  /* unfitted */\n",
       "  background-color: var(--sklearn-color-fitted-level-0);\n",
       "}\n",
       "\n",
       "#sk-container-id-1 input.sk-toggleable__control:checked~div.sk-toggleable__content {\n",
       "  /* Expand drop-down */\n",
       "  max-height: 200px;\n",
       "  max-width: 100%;\n",
       "  overflow: auto;\n",
       "}\n",
       "\n",
       "#sk-container-id-1 input.sk-toggleable__control:checked~label.sk-toggleable__label-arrow:before {\n",
       "  content: \"▾\";\n",
       "}\n",
       "\n",
       "/* Pipeline/ColumnTransformer-specific style */\n",
       "\n",
       "#sk-container-id-1 div.sk-label input.sk-toggleable__control:checked~label.sk-toggleable__label {\n",
       "  color: var(--sklearn-color-text);\n",
       "  background-color: var(--sklearn-color-unfitted-level-2);\n",
       "}\n",
       "\n",
       "#sk-container-id-1 div.sk-label.fitted input.sk-toggleable__control:checked~label.sk-toggleable__label {\n",
       "  background-color: var(--sklearn-color-fitted-level-2);\n",
       "}\n",
       "\n",
       "/* Estimator-specific style */\n",
       "\n",
       "/* Colorize estimator box */\n",
       "#sk-container-id-1 div.sk-estimator input.sk-toggleable__control:checked~label.sk-toggleable__label {\n",
       "  /* unfitted */\n",
       "  background-color: var(--sklearn-color-unfitted-level-2);\n",
       "}\n",
       "\n",
       "#sk-container-id-1 div.sk-estimator.fitted input.sk-toggleable__control:checked~label.sk-toggleable__label {\n",
       "  /* fitted */\n",
       "  background-color: var(--sklearn-color-fitted-level-2);\n",
       "}\n",
       "\n",
       "#sk-container-id-1 div.sk-label label.sk-toggleable__label,\n",
       "#sk-container-id-1 div.sk-label label {\n",
       "  /* The background is the default theme color */\n",
       "  color: var(--sklearn-color-text-on-default-background);\n",
       "}\n",
       "\n",
       "/* On hover, darken the color of the background */\n",
       "#sk-container-id-1 div.sk-label:hover label.sk-toggleable__label {\n",
       "  color: var(--sklearn-color-text);\n",
       "  background-color: var(--sklearn-color-unfitted-level-2);\n",
       "}\n",
       "\n",
       "/* Label box, darken color on hover, fitted */\n",
       "#sk-container-id-1 div.sk-label.fitted:hover label.sk-toggleable__label.fitted {\n",
       "  color: var(--sklearn-color-text);\n",
       "  background-color: var(--sklearn-color-fitted-level-2);\n",
       "}\n",
       "\n",
       "/* Estimator label */\n",
       "\n",
       "#sk-container-id-1 div.sk-label label {\n",
       "  font-family: monospace;\n",
       "  font-weight: bold;\n",
       "  display: inline-block;\n",
       "  line-height: 1.2em;\n",
       "}\n",
       "\n",
       "#sk-container-id-1 div.sk-label-container {\n",
       "  text-align: center;\n",
       "}\n",
       "\n",
       "/* Estimator-specific */\n",
       "#sk-container-id-1 div.sk-estimator {\n",
       "  font-family: monospace;\n",
       "  border: 1px dotted var(--sklearn-color-border-box);\n",
       "  border-radius: 0.25em;\n",
       "  box-sizing: border-box;\n",
       "  margin-bottom: 0.5em;\n",
       "  /* unfitted */\n",
       "  background-color: var(--sklearn-color-unfitted-level-0);\n",
       "}\n",
       "\n",
       "#sk-container-id-1 div.sk-estimator.fitted {\n",
       "  /* fitted */\n",
       "  background-color: var(--sklearn-color-fitted-level-0);\n",
       "}\n",
       "\n",
       "/* on hover */\n",
       "#sk-container-id-1 div.sk-estimator:hover {\n",
       "  /* unfitted */\n",
       "  background-color: var(--sklearn-color-unfitted-level-2);\n",
       "}\n",
       "\n",
       "#sk-container-id-1 div.sk-estimator.fitted:hover {\n",
       "  /* fitted */\n",
       "  background-color: var(--sklearn-color-fitted-level-2);\n",
       "}\n",
       "\n",
       "/* Specification for estimator info (e.g. \"i\" and \"?\") */\n",
       "\n",
       "/* Common style for \"i\" and \"?\" */\n",
       "\n",
       ".sk-estimator-doc-link,\n",
       "a:link.sk-estimator-doc-link,\n",
       "a:visited.sk-estimator-doc-link {\n",
       "  float: right;\n",
       "  font-size: smaller;\n",
       "  line-height: 1em;\n",
       "  font-family: monospace;\n",
       "  background-color: var(--sklearn-color-background);\n",
       "  border-radius: 1em;\n",
       "  height: 1em;\n",
       "  width: 1em;\n",
       "  text-decoration: none !important;\n",
       "  margin-left: 1ex;\n",
       "  /* unfitted */\n",
       "  border: var(--sklearn-color-unfitted-level-1) 1pt solid;\n",
       "  color: var(--sklearn-color-unfitted-level-1);\n",
       "}\n",
       "\n",
       ".sk-estimator-doc-link.fitted,\n",
       "a:link.sk-estimator-doc-link.fitted,\n",
       "a:visited.sk-estimator-doc-link.fitted {\n",
       "  /* fitted */\n",
       "  border: var(--sklearn-color-fitted-level-1) 1pt solid;\n",
       "  color: var(--sklearn-color-fitted-level-1);\n",
       "}\n",
       "\n",
       "/* On hover */\n",
       "div.sk-estimator:hover .sk-estimator-doc-link:hover,\n",
       ".sk-estimator-doc-link:hover,\n",
       "div.sk-label-container:hover .sk-estimator-doc-link:hover,\n",
       ".sk-estimator-doc-link:hover {\n",
       "  /* unfitted */\n",
       "  background-color: var(--sklearn-color-unfitted-level-3);\n",
       "  color: var(--sklearn-color-background);\n",
       "  text-decoration: none;\n",
       "}\n",
       "\n",
       "div.sk-estimator.fitted:hover .sk-estimator-doc-link.fitted:hover,\n",
       ".sk-estimator-doc-link.fitted:hover,\n",
       "div.sk-label-container:hover .sk-estimator-doc-link.fitted:hover,\n",
       ".sk-estimator-doc-link.fitted:hover {\n",
       "  /* fitted */\n",
       "  background-color: var(--sklearn-color-fitted-level-3);\n",
       "  color: var(--sklearn-color-background);\n",
       "  text-decoration: none;\n",
       "}\n",
       "\n",
       "/* Span, style for the box shown on hovering the info icon */\n",
       ".sk-estimator-doc-link span {\n",
       "  display: none;\n",
       "  z-index: 9999;\n",
       "  position: relative;\n",
       "  font-weight: normal;\n",
       "  right: .2ex;\n",
       "  padding: .5ex;\n",
       "  margin: .5ex;\n",
       "  width: min-content;\n",
       "  min-width: 20ex;\n",
       "  max-width: 50ex;\n",
       "  color: var(--sklearn-color-text);\n",
       "  box-shadow: 2pt 2pt 4pt #999;\n",
       "  /* unfitted */\n",
       "  background: var(--sklearn-color-unfitted-level-0);\n",
       "  border: .5pt solid var(--sklearn-color-unfitted-level-3);\n",
       "}\n",
       "\n",
       ".sk-estimator-doc-link.fitted span {\n",
       "  /* fitted */\n",
       "  background: var(--sklearn-color-fitted-level-0);\n",
       "  border: var(--sklearn-color-fitted-level-3);\n",
       "}\n",
       "\n",
       ".sk-estimator-doc-link:hover span {\n",
       "  display: block;\n",
       "}\n",
       "\n",
       "/* \"?\"-specific style due to the `<a>` HTML tag */\n",
       "\n",
       "#sk-container-id-1 a.estimator_doc_link {\n",
       "  float: right;\n",
       "  font-size: 1rem;\n",
       "  line-height: 1em;\n",
       "  font-family: monospace;\n",
       "  background-color: var(--sklearn-color-background);\n",
       "  border-radius: 1rem;\n",
       "  height: 1rem;\n",
       "  width: 1rem;\n",
       "  text-decoration: none;\n",
       "  /* unfitted */\n",
       "  color: var(--sklearn-color-unfitted-level-1);\n",
       "  border: var(--sklearn-color-unfitted-level-1) 1pt solid;\n",
       "}\n",
       "\n",
       "#sk-container-id-1 a.estimator_doc_link.fitted {\n",
       "  /* fitted */\n",
       "  border: var(--sklearn-color-fitted-level-1) 1pt solid;\n",
       "  color: var(--sklearn-color-fitted-level-1);\n",
       "}\n",
       "\n",
       "/* On hover */\n",
       "#sk-container-id-1 a.estimator_doc_link:hover {\n",
       "  /* unfitted */\n",
       "  background-color: var(--sklearn-color-unfitted-level-3);\n",
       "  color: var(--sklearn-color-background);\n",
       "  text-decoration: none;\n",
       "}\n",
       "\n",
       "#sk-container-id-1 a.estimator_doc_link.fitted:hover {\n",
       "  /* fitted */\n",
       "  background-color: var(--sklearn-color-fitted-level-3);\n",
       "}\n",
       "</style><div id=\"sk-container-id-1\" class=\"sk-top-container\"><div class=\"sk-text-repr-fallback\"><pre>LabelEncoder()</pre><b>In a Jupyter environment, please rerun this cell to show the HTML representation or trust the notebook. <br />On GitHub, the HTML representation is unable to render, please try loading this page with nbviewer.org.</b></div><div class=\"sk-container\" hidden><div class=\"sk-item\"><div class=\"sk-estimator fitted sk-toggleable\"><input class=\"sk-toggleable__control sk-hidden--visually\" id=\"sk-estimator-id-1\" type=\"checkbox\" checked><label for=\"sk-estimator-id-1\" class=\"sk-toggleable__label fitted sk-toggleable__label-arrow fitted\">&nbsp;&nbsp;LabelEncoder<a class=\"sk-estimator-doc-link fitted\" rel=\"noreferrer\" target=\"_blank\" href=\"https://scikit-learn.org/1.4/modules/generated/sklearn.preprocessing.LabelEncoder.html\">?<span>Documentation for LabelEncoder</span></a><span class=\"sk-estimator-doc-link fitted\">i<span>Fitted</span></span></label><div class=\"sk-toggleable__content fitted\"><pre>LabelEncoder()</pre></div> </div></div></div></div>"
      ],
      "text/plain": [
       "LabelEncoder()"
      ]
     },
     "execution_count": 79,
     "metadata": {},
     "output_type": "execute_result"
    }
   ],
   "source": [
    "label_encoder"
   ]
  },
  {
   "cell_type": "code",
   "execution_count": 81,
   "id": "78b657fb",
   "metadata": {},
   "outputs": [
    {
     "name": "stdout",
     "output_type": "stream",
     "text": [
      "     Brand  Model\n",
      "0       29     85\n",
      "1       23     80\n",
      "2       33     16\n",
      "3        7     59\n",
      "4       10     89\n",
      "..     ...    ...\n",
      "502      6     22\n",
      "503      5     35\n",
      "504     21     53\n",
      "505     37     61\n",
      "506     13     21\n",
      "\n",
      "[507 rows x 2 columns]\n"
     ]
    }
   ],
   "source": [
    "print(lux_data[['Brand','Model']])"
   ]
  },
  {
   "cell_type": "markdown",
   "id": "86a339da",
   "metadata": {},
   "source": [
    "###### 4.1.2 OneHotEncoding"
   ]
  },
  {
   "cell_type": "markdown",
   "id": "6074066a",
   "metadata": {},
   "source": [
    "Applying OneHotEncoding on few features :"
   ]
  },
  {
   "cell_type": "code",
   "execution_count": 85,
   "id": "fe3441e2-27d8-4328-82b9-14099bd17ac5",
   "metadata": {},
   "outputs": [
    {
     "data": {
      "text/plain": [
       "Index(['Brand', 'Model', 'Case Material', 'Strap Material', 'Movement Type',\n",
       "       'Water Resistance', 'Case Diameter (mm)', 'Case Thickness (mm)',\n",
       "       'Band Width (mm)', 'Dial Color', 'Crystal Material', 'Complications',\n",
       "       'Power Reserve', 'Price (USD)'],\n",
       "      dtype='object')"
      ]
     },
     "execution_count": 85,
     "metadata": {},
     "output_type": "execute_result"
    }
   ],
   "source": [
    "lux_data.columns"
   ]
  },
  {
   "cell_type": "code",
   "execution_count": 87,
   "id": "6c03d580-0aed-4340-bc35-b64471578717",
   "metadata": {},
   "outputs": [
    {
     "data": {
      "text/plain": [
       "(507, 14)"
      ]
     },
     "execution_count": 87,
     "metadata": {},
     "output_type": "execute_result"
    }
   ],
   "source": [
    "lux_data.shape"
   ]
  },
  {
   "cell_type": "code",
   "execution_count": 89,
   "id": "13f68e02-d936-46ed-8e60-7edc977bf549",
   "metadata": {},
   "outputs": [],
   "source": [
    "lux_data=pd.get_dummies(lux_data,columns=['Case Material','Strap Material'] , drop_first=True)"
   ]
  },
  {
   "cell_type": "code",
   "execution_count": 91,
   "id": "c331e519-6f56-4742-9216-aa05f96d17ca",
   "metadata": {},
   "outputs": [],
   "source": [
    "lux_data=pd.get_dummies(lux_data,columns=['Dial Color','Crystal Material'] , drop_first=True)"
   ]
  },
  {
   "cell_type": "code",
   "execution_count": 93,
   "id": "a7113258-350c-48a6-a177-fe085f55ed2d",
   "metadata": {},
   "outputs": [
    {
     "data": {
      "text/plain": [
       "(507, 48)"
      ]
     },
     "execution_count": 93,
     "metadata": {},
     "output_type": "execute_result"
    }
   ],
   "source": [
    "lux_data.shape"
   ]
  },
  {
   "cell_type": "markdown",
   "id": "5fa84eae",
   "metadata": {},
   "source": [
    "###### 4.1.3 Mapping "
   ]
  },
  {
   "cell_type": "markdown",
   "id": "c3005c0f",
   "metadata": {},
   "source": [
    "Mapping is applied to categorize or group similar entities together based on predefined criteria, such as frequency, categorical relationships, or target variable associations, to simplify analysis or enhance model performance in data science tasks."
   ]
  },
  {
   "cell_type": "code",
   "execution_count": 97,
   "id": "0e806a1b-9caa-468a-84ee-2917128d0635",
   "metadata": {},
   "outputs": [],
   "source": [
    "lux_data['Movement Type'] = lux_data['Movement Type'].astype(str)\n",
    "order = {'Quartz':1 ,'Automatic':2 ,'Manual':3}\n",
    "lux_data['Movement Type'] = lux_data['Movement Type'].map(order)"
   ]
  },
  {
   "cell_type": "code",
   "execution_count": 99,
   "id": "56aa0a03-2ff1-4765-8c39-2ec9a949ebb6",
   "metadata": {},
   "outputs": [
    {
     "data": {
      "text/plain": [
       "0      2.0\n",
       "1      2.0\n",
       "2      2.0\n",
       "3      2.0\n",
       "4      1.0\n",
       "      ... \n",
       "502    2.0\n",
       "503    2.0\n",
       "504    2.0\n",
       "505    2.0\n",
       "506    2.0\n",
       "Name: Movement Type, Length: 507, dtype: float64"
      ]
     },
     "execution_count": 99,
     "metadata": {},
     "output_type": "execute_result"
    }
   ],
   "source": [
    "lux_data['Movement Type']"
   ]
  },
  {
   "cell_type": "code",
   "execution_count": 101,
   "id": "77eb540d",
   "metadata": {},
   "outputs": [
    {
     "data": {
      "text/plain": [
       "Water Resistance\n",
       "100 meters     130\n",
       "50 meters      112\n",
       "30 meters      104\n",
       "300 meters      63\n",
       "200 meters      29\n",
       "120 meters      26\n",
       "150 meters      20\n",
       "60 meters       13\n",
       "1000 meters      4\n",
       "500 meters       3\n",
       "600 meters       2\n",
       "2000 meters      1\n",
       "Name: count, dtype: int64"
      ]
     },
     "execution_count": 101,
     "metadata": {},
     "output_type": "execute_result"
    }
   ],
   "source": [
    "lux_data['Water Resistance'].value_counts()"
   ]
  },
  {
   "cell_type": "code",
   "execution_count": 103,
   "id": "4f98513c",
   "metadata": {},
   "outputs": [
    {
     "name": "stdout",
     "output_type": "stream",
     "text": [
      "0      7\n",
      "1      9\n",
      "2      3\n",
      "3      0\n",
      "4      0\n",
      "      ..\n",
      "502    0\n",
      "503    7\n",
      "504    0\n",
      "505    5\n",
      "506    1\n",
      "Name: Water Resistance, Length: 507, dtype: int64\n"
     ]
    }
   ],
   "source": [
    "water_resistance_mapping = {'30 meters' : 0 ,'50 meters' : 1,'60 meters' : 2,'100 meters' : 3,'120 meters' : 4,'150 meters' : 5,'200 meters' : 6,'300 meters' : 7,'500 meters' : 8,'600 meters' : 9,'1000 meters' : 10,'2000 meters' : 11}\n",
    "\n",
    "# Apply mapping using map function\n",
    "lux_data['Water Resistance'] = lux_data['Water Resistance'].map(water_resistance_mapping)\n",
    "\n",
    "# Display the relevant columns\n",
    "print(lux_data['Water Resistance'])"
   ]
  },
  {
   "cell_type": "markdown",
   "id": "9d3921b1",
   "metadata": {},
   "source": [
    "###### 4.2 Scaling the numeric columns"
   ]
  },
  {
   "cell_type": "markdown",
   "id": "403666b4",
   "metadata": {},
   "source": [
    "Creating a variable and assigning the numeric columns so that we can perform Scaling easily."
   ]
  },
  {
   "cell_type": "code",
   "execution_count": 107,
   "id": "357a5ed9",
   "metadata": {},
   "outputs": [],
   "source": [
    "scaler = StandardScaler()\n",
    "numerical_features = ['Case Diameter (mm)', 'Case Thickness (mm)', 'Band Width (mm)', 'Power Reserve', 'Price (USD)']\n",
    "\n",
    "# Select numerical features and transform\n",
    "lux_data[numerical_features] = scaler.fit_transform(lux_data[numerical_features])"
   ]
  },
  {
   "cell_type": "code",
   "execution_count": 109,
   "id": "cbe62d3c",
   "metadata": {},
   "outputs": [
    {
     "name": "stdout",
     "output_type": "stream",
     "text": [
      "     Case Diameter (mm)  Case Thickness (mm)  Band Width (mm)  Power Reserve  \\\n",
      "0             -0.413036             0.567153        -0.667289      -0.104247   \n",
      "1              0.968813             1.157746        -0.063693      -0.039423   \n",
      "2             -0.018222             0.567153        -0.667289      -0.136659   \n",
      "3              0.771406             1.069358         0.539903       0.014597   \n",
      "4             -3.966363            -2.225108        -0.667289      -0.066433   \n",
      "..                  ...                  ...              ...            ...   \n",
      "502           -1.005257            -1.341227        -0.667289      -0.158267   \n",
      "503            1.561034             1.571563         1.143498       0.284697   \n",
      "504           -1.005257            -0.758669        -0.667289      -0.017815   \n",
      "505            0.179185            -0.236375         0.539903      -0.147463   \n",
      "506           -0.413036            -0.397081        -0.667289      -0.158267   \n",
      "\n",
      "     Price (USD)  \n",
      "0      -0.247641  \n",
      "1      -0.603391  \n",
      "2      -0.757228  \n",
      "3      -0.401478  \n",
      "4      -0.891836  \n",
      "..           ...  \n",
      "502     0.906143  \n",
      "503     0.136954  \n",
      "504    -0.987985  \n",
      "505     0.665771  \n",
      "506    -1.045674  \n",
      "\n",
      "[507 rows x 5 columns]\n"
     ]
    }
   ],
   "source": [
    "print(lux_data[numerical_features])"
   ]
  },
  {
   "cell_type": "code",
   "execution_count": 111,
   "id": "c640dc85",
   "metadata": {},
   "outputs": [
    {
     "data": {
      "text/plain": [
       "Case Diameter (mm)    -1.396209e-15\n",
       "Case Thickness (mm)   -7.883240e-16\n",
       "Band Width (mm)        1.173727e-16\n",
       "Power Reserve          5.255494e-17\n",
       "Price (USD)            1.401465e-17\n",
       "dtype: float64"
      ]
     },
     "execution_count": 111,
     "metadata": {},
     "output_type": "execute_result"
    }
   ],
   "source": [
    "lux_data[numerical_features].mean()"
   ]
  },
  {
   "cell_type": "markdown",
   "id": "df851917",
   "metadata": {},
   "source": [
    "If mean of the numeric columns is around 0 then your numeric data is become normalized"
   ]
  },
  {
   "cell_type": "markdown",
   "id": "3dd4e3ff",
   "metadata": {},
   "source": [
    "###### 4.3 Creating New Features "
   ]
  },
  {
   "cell_type": "markdown",
   "id": "567af65b",
   "metadata": {},
   "source": [
    "Price per Diameter  : Calculate the price per unit of case diameter to capture cost efficiency.\n",
    "\n",
    "\n",
    "Case Volume  : Calculate the volume of the watch case using diameter and thickness."
   ]
  },
  {
   "cell_type": "code",
   "execution_count": 116,
   "id": "1513be5e",
   "metadata": {},
   "outputs": [],
   "source": [
    "lux_data['Price_per_Diameter'] = lux_data['Price (USD)'] / lux_data['Case Diameter (mm)']"
   ]
  },
  {
   "cell_type": "code",
   "execution_count": 118,
   "id": "2dedf248",
   "metadata": {},
   "outputs": [
    {
     "data": {
      "text/plain": [
       "(507, 49)"
      ]
     },
     "execution_count": 118,
     "metadata": {},
     "output_type": "execute_result"
    }
   ],
   "source": [
    "lux_data.shape"
   ]
  },
  {
   "cell_type": "code",
   "execution_count": 120,
   "id": "1c2ceab4",
   "metadata": {},
   "outputs": [],
   "source": [
    "lux_data['Case_Volume']= np.pi * (lux_data['Case Diameter (mm)'] / 2) ** 2 * lux_data['Case Thickness (mm)']\n"
   ]
  },
  {
   "cell_type": "code",
   "execution_count": 122,
   "id": "85b5bc87",
   "metadata": {},
   "outputs": [
    {
     "data": {
      "text/plain": [
       "(507, 50)"
      ]
     },
     "execution_count": 122,
     "metadata": {},
     "output_type": "execute_result"
    }
   ],
   "source": [
    "lux_data.shape"
   ]
  },
  {
   "cell_type": "code",
   "execution_count": 123,
   "id": "4a4e12c5",
   "metadata": {},
   "outputs": [
    {
     "name": "stdout",
     "output_type": "stream",
     "text": [
      "Correlation Matrix:\n",
      "                 Brand  Price (USD)\n",
      "Brand        1.000000    -0.132124\n",
      "Price (USD) -0.132124     1.000000\n"
     ]
    },
    {
     "ename": "TypeError",
     "evalue": "'module' object is not callable",
     "output_type": "error",
     "traceback": [
      "\u001b[1;31m---------------------------------------------------------------------------\u001b[0m",
      "\u001b[1;31mTypeError\u001b[0m                                 Traceback (most recent call last)",
      "Cell \u001b[1;32mIn[123], line 10\u001b[0m\n\u001b[0;32m      7\u001b[0m \u001b[38;5;28mprint\u001b[39m(\u001b[38;5;124m\"\u001b[39m\u001b[38;5;124mCorrelation Matrix:\u001b[39m\u001b[38;5;130;01m\\n\u001b[39;00m\u001b[38;5;124m\"\u001b[39m, corr_matrix)\n\u001b[0;32m      9\u001b[0m \u001b[38;5;66;03m# Visualize the correlation matrix using a heatmap\u001b[39;00m\n\u001b[1;32m---> 10\u001b[0m plt\u001b[38;5;241m.\u001b[39mfigure(figsize\u001b[38;5;241m=\u001b[39m(\u001b[38;5;241m8\u001b[39m, \u001b[38;5;241m8\u001b[39m))\n\u001b[0;32m     11\u001b[0m sns\u001b[38;5;241m.\u001b[39mheatmap(corr_matrix, annot\u001b[38;5;241m=\u001b[39m\u001b[38;5;28;01mTrue\u001b[39;00m, cmap\u001b[38;5;241m=\u001b[39m\u001b[38;5;124m'\u001b[39m\u001b[38;5;124mcoolwarm\u001b[39m\u001b[38;5;124m'\u001b[39m, linewidths\u001b[38;5;241m=\u001b[39m\u001b[38;5;241m0.5\u001b[39m)\n\u001b[0;32m     12\u001b[0m plt\u001b[38;5;241m.\u001b[39mtitle(\u001b[38;5;124m'\u001b[39m\u001b[38;5;124mCorrelation Matrix of Selected Features\u001b[39m\u001b[38;5;124m'\u001b[39m)\n",
      "\u001b[1;31mTypeError\u001b[0m: 'module' object is not callable"
     ]
    }
   ],
   "source": [
    "import seaborn as sns\n",
    "# Correlation Matrix\n",
    "selected=['Brand','Price (USD)']\n",
    "corr_matrix = lux_data[selected].corr()\n",
    "\n",
    "# Display the correlation matrix\n",
    "print(\"Correlation Matrix:\\n\", corr_matrix)\n",
    "\n",
    "# Visualize the correlation matrix using a heatmap\n",
    "plt.figure(figsize=(8, 8))\n",
    "sns.heatmap(corr_matrix, annot=True, cmap='coolwarm', linewidths=0.5)\n",
    "plt.title('Correlation Matrix of Selected Features')\n",
    "plt.show()"
   ]
  },
  {
   "cell_type": "code",
   "execution_count": null,
   "id": "80e0bbc1",
   "metadata": {},
   "outputs": [],
   "source": [
    "selected_columns = ['Case Diameter (mm)', 'Case Thickness (mm)', 'Band Width (mm)',\n",
    "                    'Power Reserve', 'Price (USD)', 'Price_per_Diameter', 'Case_Volume']\n",
    "\n",
    "# Calculate the correlation matrix\n",
    "corr_matrix = lux_data[selected_columns].corr()\n",
    "\n",
    "# Display the correlation matrix\n",
    "print(\"Correlation Matrix:\\n\", corr_matrix)\n",
    "\n",
    "# Visualize the correlation matrix using a heatmap\n",
    "plt.figure(figure size=(10, 8))\n",
    "sns.heatmap(corr_matrix, annot=True, cmap='coolwarm', linewidths=0.5)\n",
    "plt.title('Correlation Matrix of Selected Features')\n",
    "plt.show()"
   ]
  },
  {
   "cell_type": "markdown",
   "id": "d2f97026",
   "metadata": {},
   "source": [
    "### 5. Model Selection"
   ]
  },
  {
   "cell_type": "code",
   "execution_count": 124,
   "id": "0f6c350a",
   "metadata": {},
   "outputs": [
    {
     "name": "stdout",
     "output_type": "stream",
     "text": [
      "Training set shape: (304, 7)\n",
      "Test set shape: (203, 7)\n"
     ]
    }
   ],
   "source": [
    "features = ['Case Diameter (mm)', 'Case Thickness (mm)', 'Band Width (mm)', 'Power Reserve', 'Price (USD)', 'Brand', 'Movement Type']\n",
    "\n",
    "# Split the dataset into training and testing sets\n",
    "xtrain, xtest = train_test_split(lux_data[features], test_size=0.4, random_state=42)\n",
    "\n",
    "# Scale numerical features in the training set\n",
    "scaler = StandardScaler()\n",
    "xtrain_scaled = scaler.fit_transform(xtrain)\n",
    "xtest_scaled = scaler.transform(xtest)\n",
    "\n",
    "print(f'Training set shape: {xtrain_scaled.shape}')\n",
    "print(f'Test set shape: {xtest_scaled.shape}')"
   ]
  },
  {
   "cell_type": "markdown",
   "id": "91a99d5c",
   "metadata": {},
   "source": [
    "##### 5.1 Model Implementation"
   ]
  },
  {
   "cell_type": "code",
   "execution_count": 127,
   "id": "40fdbee9",
   "metadata": {},
   "outputs": [
    {
     "data": {
      "text/html": [
       "<div>\n",
       "<style scoped>\n",
       "    .dataframe tbody tr th:only-of-type {\n",
       "        vertical-align: middle;\n",
       "    }\n",
       "\n",
       "    .dataframe tbody tr th {\n",
       "        vertical-align: top;\n",
       "    }\n",
       "\n",
       "    .dataframe thead th {\n",
       "        text-align: right;\n",
       "    }\n",
       "</style>\n",
       "<table border=\"1\" class=\"dataframe\">\n",
       "  <thead>\n",
       "    <tr style=\"text-align: right;\">\n",
       "      <th></th>\n",
       "      <th>Case Diameter (mm)</th>\n",
       "      <th>Case Thickness (mm)</th>\n",
       "      <th>Band Width (mm)</th>\n",
       "      <th>Power Reserve</th>\n",
       "      <th>Price (USD)</th>\n",
       "      <th>Brand</th>\n",
       "      <th>Movement Type</th>\n",
       "    </tr>\n",
       "  </thead>\n",
       "  <tbody>\n",
       "    <tr>\n",
       "      <th>304</th>\n",
       "      <td>1.166220</td>\n",
       "      <td>1.631828</td>\n",
       "      <td>1.747094</td>\n",
       "      <td>-0.061031</td>\n",
       "      <td>-0.468782</td>\n",
       "      <td>25</td>\n",
       "      <td>3.0</td>\n",
       "    </tr>\n",
       "    <tr>\n",
       "      <th>83</th>\n",
       "      <td>-0.413036</td>\n",
       "      <td>0.567153</td>\n",
       "      <td>-0.667289</td>\n",
       "      <td>-0.104247</td>\n",
       "      <td>-0.247641</td>\n",
       "      <td>29</td>\n",
       "      <td>2.0</td>\n",
       "    </tr>\n",
       "    <tr>\n",
       "      <th>248</th>\n",
       "      <td>1.166220</td>\n",
       "      <td>0.587241</td>\n",
       "      <td>1.747094</td>\n",
       "      <td>-0.061031</td>\n",
       "      <td>-0.545701</td>\n",
       "      <td>25</td>\n",
       "      <td>3.0</td>\n",
       "    </tr>\n",
       "    <tr>\n",
       "      <th>165</th>\n",
       "      <td>-0.807850</td>\n",
       "      <td>-2.646960</td>\n",
       "      <td>0.539903</td>\n",
       "      <td>-0.066433</td>\n",
       "      <td>-1.007215</td>\n",
       "      <td>28</td>\n",
       "      <td>1.0</td>\n",
       "    </tr>\n",
       "    <tr>\n",
       "      <th>163</th>\n",
       "      <td>-0.413036</td>\n",
       "      <td>-0.176111</td>\n",
       "      <td>-0.667289</td>\n",
       "      <td>0.068617</td>\n",
       "      <td>-1.050482</td>\n",
       "      <td>16</td>\n",
       "      <td>2.0</td>\n",
       "    </tr>\n",
       "    <tr>\n",
       "      <th>...</th>\n",
       "      <td>...</td>\n",
       "      <td>...</td>\n",
       "      <td>...</td>\n",
       "      <td>...</td>\n",
       "      <td>...</td>\n",
       "      <td>...</td>\n",
       "      <td>...</td>\n",
       "    </tr>\n",
       "    <tr>\n",
       "      <th>106</th>\n",
       "      <td>-0.018222</td>\n",
       "      <td>-0.718492</td>\n",
       "      <td>-0.667289</td>\n",
       "      <td>-0.039423</td>\n",
       "      <td>4.127122</td>\n",
       "      <td>2</td>\n",
       "      <td>2.0</td>\n",
       "    </tr>\n",
       "    <tr>\n",
       "      <th>270</th>\n",
       "      <td>0.376592</td>\n",
       "      <td>1.089446</td>\n",
       "      <td>-0.667289</td>\n",
       "      <td>-0.104247</td>\n",
       "      <td>-0.641850</td>\n",
       "      <td>23</td>\n",
       "      <td>3.0</td>\n",
       "    </tr>\n",
       "    <tr>\n",
       "      <th>348</th>\n",
       "      <td>1.166220</td>\n",
       "      <td>1.049270</td>\n",
       "      <td>0.539903</td>\n",
       "      <td>-0.158267</td>\n",
       "      <td>-0.848570</td>\n",
       "      <td>7</td>\n",
       "      <td>2.0</td>\n",
       "    </tr>\n",
       "    <tr>\n",
       "      <th>435</th>\n",
       "      <td>-0.018222</td>\n",
       "      <td>1.209976</td>\n",
       "      <td>-0.667289</td>\n",
       "      <td>-0.136659</td>\n",
       "      <td>0.185028</td>\n",
       "      <td>17</td>\n",
       "      <td>2.0</td>\n",
       "    </tr>\n",
       "    <tr>\n",
       "      <th>102</th>\n",
       "      <td>-0.018222</td>\n",
       "      <td>0.446624</td>\n",
       "      <td>0.539903</td>\n",
       "      <td>0.014597</td>\n",
       "      <td>-0.786073</td>\n",
       "      <td>35</td>\n",
       "      <td>2.0</td>\n",
       "    </tr>\n",
       "  </tbody>\n",
       "</table>\n",
       "<p>304 rows × 7 columns</p>\n",
       "</div>"
      ],
      "text/plain": [
       "     Case Diameter (mm)  Case Thickness (mm)  Band Width (mm)  Power Reserve  \\\n",
       "304            1.166220             1.631828         1.747094      -0.061031   \n",
       "83            -0.413036             0.567153        -0.667289      -0.104247   \n",
       "248            1.166220             0.587241         1.747094      -0.061031   \n",
       "165           -0.807850            -2.646960         0.539903      -0.066433   \n",
       "163           -0.413036            -0.176111        -0.667289       0.068617   \n",
       "..                  ...                  ...              ...            ...   \n",
       "106           -0.018222            -0.718492        -0.667289      -0.039423   \n",
       "270            0.376592             1.089446        -0.667289      -0.104247   \n",
       "348            1.166220             1.049270         0.539903      -0.158267   \n",
       "435           -0.018222             1.209976        -0.667289      -0.136659   \n",
       "102           -0.018222             0.446624         0.539903       0.014597   \n",
       "\n",
       "     Price (USD)  Brand  Movement Type  \n",
       "304    -0.468782     25            3.0  \n",
       "83     -0.247641     29            2.0  \n",
       "248    -0.545701     25            3.0  \n",
       "165    -1.007215     28            1.0  \n",
       "163    -1.050482     16            2.0  \n",
       "..           ...    ...            ...  \n",
       "106     4.127122      2            2.0  \n",
       "270    -0.641850     23            3.0  \n",
       "348    -0.848570      7            2.0  \n",
       "435     0.185028     17            2.0  \n",
       "102    -0.786073     35            2.0  \n",
       "\n",
       "[304 rows x 7 columns]"
      ]
     },
     "execution_count": 127,
     "metadata": {},
     "output_type": "execute_result"
    }
   ],
   "source": [
    "xtrain"
   ]
  },
  {
   "cell_type": "code",
   "execution_count": 129,
   "id": "fd6916e6",
   "metadata": {},
   "outputs": [
    {
     "data": {
      "text/plain": [
       "Case Diameter (mm)     0\n",
       "Case Thickness (mm)    0\n",
       "Band Width (mm)        0\n",
       "Power Reserve          0\n",
       "Price (USD)            0\n",
       "Brand                  0\n",
       "Movement Type          1\n",
       "dtype: int64"
      ]
     },
     "execution_count": 129,
     "metadata": {},
     "output_type": "execute_result"
    }
   ],
   "source": [
    "xtrain.isnull().sum()"
   ]
  },
  {
   "cell_type": "code",
   "execution_count": 131,
   "id": "9d76d8d9-d402-4ea2-b554-ee3a3f31dcb3",
   "metadata": {},
   "outputs": [
    {
     "data": {
      "text/plain": [
       "<bound method Series.median of 304    3.0\n",
       "83     2.0\n",
       "248    3.0\n",
       "165    1.0\n",
       "163    2.0\n",
       "      ... \n",
       "106    2.0\n",
       "270    3.0\n",
       "348    2.0\n",
       "435    2.0\n",
       "102    2.0\n",
       "Name: Movement Type, Length: 304, dtype: float64>"
      ]
     },
     "execution_count": 131,
     "metadata": {},
     "output_type": "execute_result"
    }
   ],
   "source": [
    "xtrain['Movement Type'].median"
   ]
  },
  {
   "cell_type": "code",
   "execution_count": 135,
   "id": "6149c84a",
   "metadata": {},
   "outputs": [],
   "source": [
    "xtrain['Movement Type'].fillna(xtrain['Movement Type'].median , inplace=True)"
   ]
  },
  {
   "cell_type": "code",
   "execution_count": 137,
   "id": "a22685f7",
   "metadata": {},
   "outputs": [
    {
     "data": {
      "text/plain": [
       "Case Diameter (mm)     0\n",
       "Case Thickness (mm)    0\n",
       "Band Width (mm)        0\n",
       "Power Reserve          0\n",
       "Price (USD)            0\n",
       "Brand                  0\n",
       "Movement Type          0\n",
       "dtype: int64"
      ]
     },
     "execution_count": 137,
     "metadata": {},
     "output_type": "execute_result"
    }
   ],
   "source": [
    "xtrain.isnull().sum()"
   ]
  },
  {
   "cell_type": "code",
   "execution_count": 139,
   "id": "d7c53a10",
   "metadata": {},
   "outputs": [
    {
     "data": {
      "text/plain": [
       "Case Diameter (mm)     0\n",
       "Case Thickness (mm)    0\n",
       "Band Width (mm)        0\n",
       "Power Reserve          0\n",
       "Price (USD)            0\n",
       "Brand                  0\n",
       "Movement Type          1\n",
       "dtype: int64"
      ]
     },
     "execution_count": 139,
     "metadata": {},
     "output_type": "execute_result"
    }
   ],
   "source": [
    "xtest.isnull().sum()"
   ]
  },
  {
   "cell_type": "code",
   "execution_count": 143,
   "id": "9d9e8b9f",
   "metadata": {},
   "outputs": [],
   "source": [
    "xtest['Movement Type'].fillna(xtest['Movement Type'].median , inplace=True)"
   ]
  },
  {
   "cell_type": "code",
   "execution_count": 145,
   "id": "28073b7e",
   "metadata": {},
   "outputs": [],
   "source": [
    "lux_data.replace([np.inf, -np.inf], np.nan, inplace=True)\n",
    "lux_data.dropna(inplace=True)\n"
   ]
  },
  {
   "cell_type": "code",
   "execution_count": 147,
   "id": "82bb0743",
   "metadata": {},
   "outputs": [],
   "source": [
    "features = ['Case Diameter (mm)', 'Case Thickness (mm)', 'Band Width (mm)', 'Power Reserve', 'Price (USD)', 'Brand', 'Movement Type']\n",
    "\n",
    "# Split the dataset into training and testing sets\n",
    "xtrain, xtest = train_test_split(lux_data[features], test_size=0.3, random_state=42)\n",
    "\n",
    "# Scale numerical features in the training set\n",
    "scaler = StandardScaler()\n",
    "xtrain_scaled = scaler.fit_transform(xtrain)\n",
    "xtest_scaled = scaler.transform(xtest)"
   ]
  },
  {
   "cell_type": "code",
   "execution_count": 149,
   "id": "631476ce",
   "metadata": {},
   "outputs": [
    {
     "data": {
      "text/html": [
       "<style>#sk-container-id-2 {\n",
       "  /* Definition of color scheme common for light and dark mode */\n",
       "  --sklearn-color-text: black;\n",
       "  --sklearn-color-line: gray;\n",
       "  /* Definition of color scheme for unfitted estimators */\n",
       "  --sklearn-color-unfitted-level-0: #fff5e6;\n",
       "  --sklearn-color-unfitted-level-1: #f6e4d2;\n",
       "  --sklearn-color-unfitted-level-2: #ffe0b3;\n",
       "  --sklearn-color-unfitted-level-3: chocolate;\n",
       "  /* Definition of color scheme for fitted estimators */\n",
       "  --sklearn-color-fitted-level-0: #f0f8ff;\n",
       "  --sklearn-color-fitted-level-1: #d4ebff;\n",
       "  --sklearn-color-fitted-level-2: #b3dbfd;\n",
       "  --sklearn-color-fitted-level-3: cornflowerblue;\n",
       "\n",
       "  /* Specific color for light theme */\n",
       "  --sklearn-color-text-on-default-background: var(--sg-text-color, var(--theme-code-foreground, var(--jp-content-font-color1, black)));\n",
       "  --sklearn-color-background: var(--sg-background-color, var(--theme-background, var(--jp-layout-color0, white)));\n",
       "  --sklearn-color-border-box: var(--sg-text-color, var(--theme-code-foreground, var(--jp-content-font-color1, black)));\n",
       "  --sklearn-color-icon: #696969;\n",
       "\n",
       "  @media (prefers-color-scheme: dark) {\n",
       "    /* Redefinition of color scheme for dark theme */\n",
       "    --sklearn-color-text-on-default-background: var(--sg-text-color, var(--theme-code-foreground, var(--jp-content-font-color1, white)));\n",
       "    --sklearn-color-background: var(--sg-background-color, var(--theme-background, var(--jp-layout-color0, #111)));\n",
       "    --sklearn-color-border-box: var(--sg-text-color, var(--theme-code-foreground, var(--jp-content-font-color1, white)));\n",
       "    --sklearn-color-icon: #878787;\n",
       "  }\n",
       "}\n",
       "\n",
       "#sk-container-id-2 {\n",
       "  color: var(--sklearn-color-text);\n",
       "}\n",
       "\n",
       "#sk-container-id-2 pre {\n",
       "  padding: 0;\n",
       "}\n",
       "\n",
       "#sk-container-id-2 input.sk-hidden--visually {\n",
       "  border: 0;\n",
       "  clip: rect(1px 1px 1px 1px);\n",
       "  clip: rect(1px, 1px, 1px, 1px);\n",
       "  height: 1px;\n",
       "  margin: -1px;\n",
       "  overflow: hidden;\n",
       "  padding: 0;\n",
       "  position: absolute;\n",
       "  width: 1px;\n",
       "}\n",
       "\n",
       "#sk-container-id-2 div.sk-dashed-wrapped {\n",
       "  border: 1px dashed var(--sklearn-color-line);\n",
       "  margin: 0 0.4em 0.5em 0.4em;\n",
       "  box-sizing: border-box;\n",
       "  padding-bottom: 0.4em;\n",
       "  background-color: var(--sklearn-color-background);\n",
       "}\n",
       "\n",
       "#sk-container-id-2 div.sk-container {\n",
       "  /* jupyter's `normalize.less` sets `[hidden] { display: none; }`\n",
       "     but bootstrap.min.css set `[hidden] { display: none !important; }`\n",
       "     so we also need the `!important` here to be able to override the\n",
       "     default hidden behavior on the sphinx rendered scikit-learn.org.\n",
       "     See: https://github.com/scikit-learn/scikit-learn/issues/21755 */\n",
       "  display: inline-block !important;\n",
       "  position: relative;\n",
       "}\n",
       "\n",
       "#sk-container-id-2 div.sk-text-repr-fallback {\n",
       "  display: none;\n",
       "}\n",
       "\n",
       "div.sk-parallel-item,\n",
       "div.sk-serial,\n",
       "div.sk-item {\n",
       "  /* draw centered vertical line to link estimators */\n",
       "  background-image: linear-gradient(var(--sklearn-color-text-on-default-background), var(--sklearn-color-text-on-default-background));\n",
       "  background-size: 2px 100%;\n",
       "  background-repeat: no-repeat;\n",
       "  background-position: center center;\n",
       "}\n",
       "\n",
       "/* Parallel-specific style estimator block */\n",
       "\n",
       "#sk-container-id-2 div.sk-parallel-item::after {\n",
       "  content: \"\";\n",
       "  width: 100%;\n",
       "  border-bottom: 2px solid var(--sklearn-color-text-on-default-background);\n",
       "  flex-grow: 1;\n",
       "}\n",
       "\n",
       "#sk-container-id-2 div.sk-parallel {\n",
       "  display: flex;\n",
       "  align-items: stretch;\n",
       "  justify-content: center;\n",
       "  background-color: var(--sklearn-color-background);\n",
       "  position: relative;\n",
       "}\n",
       "\n",
       "#sk-container-id-2 div.sk-parallel-item {\n",
       "  display: flex;\n",
       "  flex-direction: column;\n",
       "}\n",
       "\n",
       "#sk-container-id-2 div.sk-parallel-item:first-child::after {\n",
       "  align-self: flex-end;\n",
       "  width: 50%;\n",
       "}\n",
       "\n",
       "#sk-container-id-2 div.sk-parallel-item:last-child::after {\n",
       "  align-self: flex-start;\n",
       "  width: 50%;\n",
       "}\n",
       "\n",
       "#sk-container-id-2 div.sk-parallel-item:only-child::after {\n",
       "  width: 0;\n",
       "}\n",
       "\n",
       "/* Serial-specific style estimator block */\n",
       "\n",
       "#sk-container-id-2 div.sk-serial {\n",
       "  display: flex;\n",
       "  flex-direction: column;\n",
       "  align-items: center;\n",
       "  background-color: var(--sklearn-color-background);\n",
       "  padding-right: 1em;\n",
       "  padding-left: 1em;\n",
       "}\n",
       "\n",
       "\n",
       "/* Toggleable style: style used for estimator/Pipeline/ColumnTransformer box that is\n",
       "clickable and can be expanded/collapsed.\n",
       "- Pipeline and ColumnTransformer use this feature and define the default style\n",
       "- Estimators will overwrite some part of the style using the `sk-estimator` class\n",
       "*/\n",
       "\n",
       "/* Pipeline and ColumnTransformer style (default) */\n",
       "\n",
       "#sk-container-id-2 div.sk-toggleable {\n",
       "  /* Default theme specific background. It is overwritten whether we have a\n",
       "  specific estimator or a Pipeline/ColumnTransformer */\n",
       "  background-color: var(--sklearn-color-background);\n",
       "}\n",
       "\n",
       "/* Toggleable label */\n",
       "#sk-container-id-2 label.sk-toggleable__label {\n",
       "  cursor: pointer;\n",
       "  display: block;\n",
       "  width: 100%;\n",
       "  margin-bottom: 0;\n",
       "  padding: 0.5em;\n",
       "  box-sizing: border-box;\n",
       "  text-align: center;\n",
       "}\n",
       "\n",
       "#sk-container-id-2 label.sk-toggleable__label-arrow:before {\n",
       "  /* Arrow on the left of the label */\n",
       "  content: \"▸\";\n",
       "  float: left;\n",
       "  margin-right: 0.25em;\n",
       "  color: var(--sklearn-color-icon);\n",
       "}\n",
       "\n",
       "#sk-container-id-2 label.sk-toggleable__label-arrow:hover:before {\n",
       "  color: var(--sklearn-color-text);\n",
       "}\n",
       "\n",
       "/* Toggleable content - dropdown */\n",
       "\n",
       "#sk-container-id-2 div.sk-toggleable__content {\n",
       "  max-height: 0;\n",
       "  max-width: 0;\n",
       "  overflow: hidden;\n",
       "  text-align: left;\n",
       "  /* unfitted */\n",
       "  background-color: var(--sklearn-color-unfitted-level-0);\n",
       "}\n",
       "\n",
       "#sk-container-id-2 div.sk-toggleable__content.fitted {\n",
       "  /* fitted */\n",
       "  background-color: var(--sklearn-color-fitted-level-0);\n",
       "}\n",
       "\n",
       "#sk-container-id-2 div.sk-toggleable__content pre {\n",
       "  margin: 0.2em;\n",
       "  border-radius: 0.25em;\n",
       "  color: var(--sklearn-color-text);\n",
       "  /* unfitted */\n",
       "  background-color: var(--sklearn-color-unfitted-level-0);\n",
       "}\n",
       "\n",
       "#sk-container-id-2 div.sk-toggleable__content.fitted pre {\n",
       "  /* unfitted */\n",
       "  background-color: var(--sklearn-color-fitted-level-0);\n",
       "}\n",
       "\n",
       "#sk-container-id-2 input.sk-toggleable__control:checked~div.sk-toggleable__content {\n",
       "  /* Expand drop-down */\n",
       "  max-height: 200px;\n",
       "  max-width: 100%;\n",
       "  overflow: auto;\n",
       "}\n",
       "\n",
       "#sk-container-id-2 input.sk-toggleable__control:checked~label.sk-toggleable__label-arrow:before {\n",
       "  content: \"▾\";\n",
       "}\n",
       "\n",
       "/* Pipeline/ColumnTransformer-specific style */\n",
       "\n",
       "#sk-container-id-2 div.sk-label input.sk-toggleable__control:checked~label.sk-toggleable__label {\n",
       "  color: var(--sklearn-color-text);\n",
       "  background-color: var(--sklearn-color-unfitted-level-2);\n",
       "}\n",
       "\n",
       "#sk-container-id-2 div.sk-label.fitted input.sk-toggleable__control:checked~label.sk-toggleable__label {\n",
       "  background-color: var(--sklearn-color-fitted-level-2);\n",
       "}\n",
       "\n",
       "/* Estimator-specific style */\n",
       "\n",
       "/* Colorize estimator box */\n",
       "#sk-container-id-2 div.sk-estimator input.sk-toggleable__control:checked~label.sk-toggleable__label {\n",
       "  /* unfitted */\n",
       "  background-color: var(--sklearn-color-unfitted-level-2);\n",
       "}\n",
       "\n",
       "#sk-container-id-2 div.sk-estimator.fitted input.sk-toggleable__control:checked~label.sk-toggleable__label {\n",
       "  /* fitted */\n",
       "  background-color: var(--sklearn-color-fitted-level-2);\n",
       "}\n",
       "\n",
       "#sk-container-id-2 div.sk-label label.sk-toggleable__label,\n",
       "#sk-container-id-2 div.sk-label label {\n",
       "  /* The background is the default theme color */\n",
       "  color: var(--sklearn-color-text-on-default-background);\n",
       "}\n",
       "\n",
       "/* On hover, darken the color of the background */\n",
       "#sk-container-id-2 div.sk-label:hover label.sk-toggleable__label {\n",
       "  color: var(--sklearn-color-text);\n",
       "  background-color: var(--sklearn-color-unfitted-level-2);\n",
       "}\n",
       "\n",
       "/* Label box, darken color on hover, fitted */\n",
       "#sk-container-id-2 div.sk-label.fitted:hover label.sk-toggleable__label.fitted {\n",
       "  color: var(--sklearn-color-text);\n",
       "  background-color: var(--sklearn-color-fitted-level-2);\n",
       "}\n",
       "\n",
       "/* Estimator label */\n",
       "\n",
       "#sk-container-id-2 div.sk-label label {\n",
       "  font-family: monospace;\n",
       "  font-weight: bold;\n",
       "  display: inline-block;\n",
       "  line-height: 1.2em;\n",
       "}\n",
       "\n",
       "#sk-container-id-2 div.sk-label-container {\n",
       "  text-align: center;\n",
       "}\n",
       "\n",
       "/* Estimator-specific */\n",
       "#sk-container-id-2 div.sk-estimator {\n",
       "  font-family: monospace;\n",
       "  border: 1px dotted var(--sklearn-color-border-box);\n",
       "  border-radius: 0.25em;\n",
       "  box-sizing: border-box;\n",
       "  margin-bottom: 0.5em;\n",
       "  /* unfitted */\n",
       "  background-color: var(--sklearn-color-unfitted-level-0);\n",
       "}\n",
       "\n",
       "#sk-container-id-2 div.sk-estimator.fitted {\n",
       "  /* fitted */\n",
       "  background-color: var(--sklearn-color-fitted-level-0);\n",
       "}\n",
       "\n",
       "/* on hover */\n",
       "#sk-container-id-2 div.sk-estimator:hover {\n",
       "  /* unfitted */\n",
       "  background-color: var(--sklearn-color-unfitted-level-2);\n",
       "}\n",
       "\n",
       "#sk-container-id-2 div.sk-estimator.fitted:hover {\n",
       "  /* fitted */\n",
       "  background-color: var(--sklearn-color-fitted-level-2);\n",
       "}\n",
       "\n",
       "/* Specification for estimator info (e.g. \"i\" and \"?\") */\n",
       "\n",
       "/* Common style for \"i\" and \"?\" */\n",
       "\n",
       ".sk-estimator-doc-link,\n",
       "a:link.sk-estimator-doc-link,\n",
       "a:visited.sk-estimator-doc-link {\n",
       "  float: right;\n",
       "  font-size: smaller;\n",
       "  line-height: 1em;\n",
       "  font-family: monospace;\n",
       "  background-color: var(--sklearn-color-background);\n",
       "  border-radius: 1em;\n",
       "  height: 1em;\n",
       "  width: 1em;\n",
       "  text-decoration: none !important;\n",
       "  margin-left: 1ex;\n",
       "  /* unfitted */\n",
       "  border: var(--sklearn-color-unfitted-level-1) 1pt solid;\n",
       "  color: var(--sklearn-color-unfitted-level-1);\n",
       "}\n",
       "\n",
       ".sk-estimator-doc-link.fitted,\n",
       "a:link.sk-estimator-doc-link.fitted,\n",
       "a:visited.sk-estimator-doc-link.fitted {\n",
       "  /* fitted */\n",
       "  border: var(--sklearn-color-fitted-level-1) 1pt solid;\n",
       "  color: var(--sklearn-color-fitted-level-1);\n",
       "}\n",
       "\n",
       "/* On hover */\n",
       "div.sk-estimator:hover .sk-estimator-doc-link:hover,\n",
       ".sk-estimator-doc-link:hover,\n",
       "div.sk-label-container:hover .sk-estimator-doc-link:hover,\n",
       ".sk-estimator-doc-link:hover {\n",
       "  /* unfitted */\n",
       "  background-color: var(--sklearn-color-unfitted-level-3);\n",
       "  color: var(--sklearn-color-background);\n",
       "  text-decoration: none;\n",
       "}\n",
       "\n",
       "div.sk-estimator.fitted:hover .sk-estimator-doc-link.fitted:hover,\n",
       ".sk-estimator-doc-link.fitted:hover,\n",
       "div.sk-label-container:hover .sk-estimator-doc-link.fitted:hover,\n",
       ".sk-estimator-doc-link.fitted:hover {\n",
       "  /* fitted */\n",
       "  background-color: var(--sklearn-color-fitted-level-3);\n",
       "  color: var(--sklearn-color-background);\n",
       "  text-decoration: none;\n",
       "}\n",
       "\n",
       "/* Span, style for the box shown on hovering the info icon */\n",
       ".sk-estimator-doc-link span {\n",
       "  display: none;\n",
       "  z-index: 9999;\n",
       "  position: relative;\n",
       "  font-weight: normal;\n",
       "  right: .2ex;\n",
       "  padding: .5ex;\n",
       "  margin: .5ex;\n",
       "  width: min-content;\n",
       "  min-width: 20ex;\n",
       "  max-width: 50ex;\n",
       "  color: var(--sklearn-color-text);\n",
       "  box-shadow: 2pt 2pt 4pt #999;\n",
       "  /* unfitted */\n",
       "  background: var(--sklearn-color-unfitted-level-0);\n",
       "  border: .5pt solid var(--sklearn-color-unfitted-level-3);\n",
       "}\n",
       "\n",
       ".sk-estimator-doc-link.fitted span {\n",
       "  /* fitted */\n",
       "  background: var(--sklearn-color-fitted-level-0);\n",
       "  border: var(--sklearn-color-fitted-level-3);\n",
       "}\n",
       "\n",
       ".sk-estimator-doc-link:hover span {\n",
       "  display: block;\n",
       "}\n",
       "\n",
       "/* \"?\"-specific style due to the `<a>` HTML tag */\n",
       "\n",
       "#sk-container-id-2 a.estimator_doc_link {\n",
       "  float: right;\n",
       "  font-size: 1rem;\n",
       "  line-height: 1em;\n",
       "  font-family: monospace;\n",
       "  background-color: var(--sklearn-color-background);\n",
       "  border-radius: 1rem;\n",
       "  height: 1rem;\n",
       "  width: 1rem;\n",
       "  text-decoration: none;\n",
       "  /* unfitted */\n",
       "  color: var(--sklearn-color-unfitted-level-1);\n",
       "  border: var(--sklearn-color-unfitted-level-1) 1pt solid;\n",
       "}\n",
       "\n",
       "#sk-container-id-2 a.estimator_doc_link.fitted {\n",
       "  /* fitted */\n",
       "  border: var(--sklearn-color-fitted-level-1) 1pt solid;\n",
       "  color: var(--sklearn-color-fitted-level-1);\n",
       "}\n",
       "\n",
       "/* On hover */\n",
       "#sk-container-id-2 a.estimator_doc_link:hover {\n",
       "  /* unfitted */\n",
       "  background-color: var(--sklearn-color-unfitted-level-3);\n",
       "  color: var(--sklearn-color-background);\n",
       "  text-decoration: none;\n",
       "}\n",
       "\n",
       "#sk-container-id-2 a.estimator_doc_link.fitted:hover {\n",
       "  /* fitted */\n",
       "  background-color: var(--sklearn-color-fitted-level-3);\n",
       "}\n",
       "</style><div id=\"sk-container-id-2\" class=\"sk-top-container\"><div class=\"sk-text-repr-fallback\"><pre>NearestNeighbors(metric=&#x27;euclidean&#x27;)</pre><b>In a Jupyter environment, please rerun this cell to show the HTML representation or trust the notebook. <br />On GitHub, the HTML representation is unable to render, please try loading this page with nbviewer.org.</b></div><div class=\"sk-container\" hidden><div class=\"sk-item\"><div class=\"sk-estimator fitted sk-toggleable\"><input class=\"sk-toggleable__control sk-hidden--visually\" id=\"sk-estimator-id-2\" type=\"checkbox\" checked><label for=\"sk-estimator-id-2\" class=\"sk-toggleable__label fitted sk-toggleable__label-arrow fitted\">&nbsp;&nbsp;NearestNeighbors<a class=\"sk-estimator-doc-link fitted\" rel=\"noreferrer\" target=\"_blank\" href=\"https://scikit-learn.org/1.4/modules/generated/sklearn.neighbors.NearestNeighbors.html\">?<span>Documentation for NearestNeighbors</span></a><span class=\"sk-estimator-doc-link fitted\">i<span>Fitted</span></span></label><div class=\"sk-toggleable__content fitted\"><pre>NearestNeighbors(metric=&#x27;euclidean&#x27;)</pre></div> </div></div></div></div>"
      ],
      "text/plain": [
       "NearestNeighbors(metric='euclidean')"
      ]
     },
     "execution_count": 149,
     "metadata": {},
     "output_type": "execute_result"
    }
   ],
   "source": [
    "# Fit the k-NN model on the training data\n",
    "knn = NearestNeighbors(n_neighbors=5, metric='euclidean')\n",
    "knn.fit(xtrain_scaled)\n"
   ]
  },
  {
   "cell_type": "code",
   "execution_count": 151,
   "id": "9f5ef0cc",
   "metadata": {},
   "outputs": [],
   "source": [
    "def recommend_similar_watches(watch_index, knn, lux_data, features, xtrain_scaled, n_recommendations=5):\n",
    "    # Find the nearest neighbors\n",
    "    distances, indices = knn.kneighbors([xtrain_scaled[watch_index]])\n",
    "    \n",
    "    # Get the indices of the recommended watches\n",
    "    recommended_indices = indices[0][:n_recommendations]\n",
    "    \n",
    "    # Return the recommended watches\n",
    "    return lux_data.iloc[recommended_indices]\n",
    "\n",
    "# Assuming your training data (X_train) is a DataFrame\n",
    "xtrain_df = pd.DataFrame(xtrain_scaled, columns=features)\n"
   ]
  },
  {
   "cell_type": "code",
   "execution_count": 153,
   "id": "93f1f00f",
   "metadata": {},
   "outputs": [
    {
     "name": "stdout",
     "output_type": "stream",
     "text": [
      "(5, 50)\n"
     ]
    }
   ],
   "source": [
    "# Example usage: Recommend watches similar to the first watch in the training set\n",
    "watch_index = 0  # Index of the watch you want to find recommendations for\n",
    "recommended_watches = recommend_similar_watches(watch_index, knn, lux_data, features, xtrain_scaled)\n",
    "print(recommended_watches.shape)\n"
   ]
  },
  {
   "cell_type": "code",
   "execution_count": 155,
   "id": "9dd3b4e0",
   "metadata": {},
   "outputs": [
    {
     "name": "stdout",
     "output_type": "stream",
     "text": [
      "(5, 50)\n"
     ]
    }
   ],
   "source": [
    "# Example usage: Recommend watches similar to the first watch in the training set\n",
    "watch_index = 100  # Index of the watch you want to find recommendations for\n",
    "recommended_watches = recommend_similar_watches(watch_index, knn, lux_data, features, xtrain_scaled)\n",
    "print(recommended_watches.shape)\n"
   ]
  },
  {
   "cell_type": "code",
   "execution_count": 157,
   "id": "1ece86ba",
   "metadata": {},
   "outputs": [
    {
     "name": "stdout",
     "output_type": "stream",
     "text": [
      "(5, 50)\n"
     ]
    }
   ],
   "source": [
    "# Example usage: Recommend watches similar to the first watch in the training set\n",
    "watch_index = 10  # Index of the watch you want to find recommendations for\n",
    "recommended_watches = recommend_similar_watches(watch_index, knn, lux_data, features, xtrain_scaled)\n",
    "print(recommended_watches.shape)\n"
   ]
  },
  {
   "cell_type": "code",
   "execution_count": 159,
   "id": "eedbe0dd-ea8d-4ab4-9428-07ab4bbee698",
   "metadata": {},
   "outputs": [
    {
     "name": "stderr",
     "output_type": "stream",
     "text": [
      "2024-07-09 10:04:18.004 \n",
      "  Warning: to view this Streamlit app on a browser, run it with the following\n",
      "  command:\n",
      "\n",
      "    streamlit run C:\\Users\\anshika\\anaconda3\\Lib\\site-packages\\ipykernel_launcher.py [ARGUMENTS]\n",
      "2024-07-09 10:04:18.026 Session state does not function when running a script without `streamlit run`\n"
     ]
    }
   ],
   "source": [
    "import pandas as pd\n",
    "import streamlit as st\n",
    "\n",
    "# Load the dataset\n",
    "data = pd.read_csv('Luxury_watch.csv')\n",
    "data.columns = data.columns.str.strip()  # Strip leading/trailing spaces from column names\n",
    "data['Price (USD)'] = data['Price (USD)'].str.replace(r'[^\\d]', '', regex=True)\n",
    "data['Price (USD)'] = pd.to_numeric(data['Price (USD)'], errors='coerce').astype('Int64')\n",
    "\n",
    "# Function to get recommendations based on user preferences\n",
    "def get_recommendations(data, price_range, case_material, dial_color, case_diameter, brand, model):\n",
    "    filtered_data = data[\n",
    "        (data['Price (USD)'].between(price_range[0], price_range[1])) &\n",
    "        (data['Case Material'] == case_material) &\n",
    "        (data['Dial Color'] == dial_color) &\n",
    "        (data['Case Diameter (mm)'] == case_diameter) &\n",
    "        (data['Brand'] == brand)\n",
    "    ]\n",
    "    if model:\n",
    "        filtered_data = filtered_data[filtered_data['Model'].str.contains(model, case=False)]\n",
    "    return filtered_data\n",
    "\n",
    "# Streamlit application\n",
    "st.set_page_config(page_title=\"Luxury Watch Recommender System\", page_icon=\"🔍\")\n",
    "\n",
    "# Background image and font style\n",
    "st.markdown(\n",
    "    \"\"\"\n",
    "    <style>\n",
    "    .reportview-container {\n",
    "        background: url('background.jpg');\n",
    "        background-size: cover;\n",
    "        background-blend-mode: overlay;\n",
    "        font-family: 'JetBrains Mono', monospace;\n",
    "        color: white;\n",
    "    }\n",
    "    </style>\n",
    "    \"\"\",\n",
    "    unsafe_allow_html=True\n",
    ")\n",
    "\n",
    "# Title and description\n",
    "st.title(\"Luxury Watch Recommender System\")\n",
    "st.write(\"Provide your preferences to get the best watch recommendations.\")\n",
    "\n",
    "# Input widgets\n",
    "price_range = st.slider(\"Price Range ($)\", int(data['Price (USD)'].min()), int(data['Price (USD)'].max()), (5000, 25000))\n",
    "case_material = st.selectbox(\"Case Material\", data['Case Material'].unique())\n",
    "dial_color = st.selectbox(\"Dial Color\", data['Dial Color'].unique())\n",
    "case_diameter = st.slider(\"Case Diameter (mm)\", int(data['Case Diameter (mm)'].min()), int(data['Case Diameter (mm)'].max()), 40)\n",
    "brand = st.selectbox(\"Brand\", data['Brand'].unique())\n",
    "model = st.text_input(\"Model (optional)\")\n",
    "\n",
    "# Recommendation button\n",
    "if st.button(\"Get Recommendations\"):\n",
    "    recommendations = get_recommendations(data, price_range, case_material, dial_color, case_diameter, brand, model)\n",
    "\n",
    "    # Display recommendations\n",
    "    if not recommendations.empty:\n",
    "        st.write(\"Here are your recommended watches:\")\n",
    "        for _, rec in recommendations.iterrows():\n",
    "            st.write(f\"**{rec['Brand']} {rec['Model']}** - {rec['Price (USD)']}\")\n",
    "            st.write(f\"Case Material: {rec['Case Material']}, Dial Color: {rec['Dial Color']}, Case Diameter: {rec['Case Diameter (mm)']} \")\n",
    "    else:\n",
    "        st.write(\"No watches found matching your criteria.\")\n",
    "\n",
    "# Additional information\n",
    "st.write(\"----\")\n",
    "st.write(\"Connect with me on [LinkedIn](https://www.linkedin.com/in/anshika-solanki-b2a94b278/)\")\n"
   ]
  }
 ],
 "metadata": {
  "kernelspec": {
   "display_name": "Python 3 (ipykernel)",
   "language": "python",
   "name": "python3"
  },
  "language_info": {
   "codemirror_mode": {
    "name": "ipython",
    "version": 3
   },
   "file_extension": ".py",
   "mimetype": "text/x-python",
   "name": "python",
   "nbconvert_exporter": "python",
   "pygments_lexer": "ipython3",
   "version": "3.12.4"
  }
 },
 "nbformat": 4,
 "nbformat_minor": 5
}
